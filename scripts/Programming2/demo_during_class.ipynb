{
 "cells": [
  {
   "cell_type": "markdown",
   "id": "c9c4cd0d-b7bb-45cb-b8a7-8515b166147c",
   "metadata": {
    "tags": []
   },
   "source": [
    "# Demonstrations during lecture\n",
    "These are a couple of scripts that we made/adjusted during the 2023 lectures."
   ]
  },
  {
   "cell_type": "code",
   "execution_count": 3,
   "id": "64cbedf9-28bc-42e6-a51b-b16483f86883",
   "metadata": {
    "tags": []
   },
   "outputs": [
    {
     "name": "stdout",
     "output_type": "stream",
     "text": [
      "Value: 11\n",
      "Value: 12\n",
      "Value: 13\n",
      "Value: 14\n",
      "Value: 15\n",
      "Value: 16\n",
      "Enumerate index (0, 0) has value 11; also 11\n",
      "Enumerate index (0, 1) has value 12; also 12\n",
      "Enumerate index (0, 2) has value 13; also 13\n",
      "Enumerate index (1, 0) has value 14; also 14\n",
      "Enumerate index (1, 1) has value 15; also 15\n",
      "Enumerate index (1, 2) has value 16; also 16\n"
     ]
    }
   ],
   "source": [
    "# Array operations using loops (not recommended - use vectorized approach)\n",
    "import numpy as np\n",
    "\n",
    "# A 2D array\n",
    "data = np.array([[11,12,13], [14,15,16]])\n",
    "\n",
    "# Loop over each element using nditer\n",
    "for val in np.nditer(data):\n",
    "    print(f\"Value: {val}\")\n",
    "\n",
    "# Loop using ndenumerate (gives index + value)\n",
    "for i,val in np.ndenumerate(data):\n",
    "    print(f\"Enumerate index {i} has value {val}; also {data[i]}\")"
   ]
  },
  {
   "cell_type": "code",
   "execution_count": 4,
   "id": "49c40ed3-1366-4662-a0c0-17267c9142a4",
   "metadata": {
    "tags": []
   },
   "outputs": [
    {
     "name": "stdout",
     "output_type": "stream",
     "text": [
      "The vectorized approach took 0.1531972885131836 seconds\n",
      "The iterated approach took 4.327536582946777 seconds\n"
     ]
    }
   ],
   "source": [
    "# Array operations practice\n",
    "import time\n",
    "import numpy as np\n",
    "\n",
    "def f(x):\n",
    "    return x**2+2*x-4\n",
    "\n",
    "long_data = np.linspace(0,20,10_000_000)\n",
    "\n",
    "start = time.time()\n",
    "y1 = f(long_data)\n",
    "print(f\"The vectorized approach took {time.time()-start} seconds\")\n",
    "\n",
    "y2 = np.zeros_like(long_data)\n",
    "start = time.time()\n",
    "\n",
    "for i in range(len(long_data)):\n",
    "    y2[i] = f(long_data[i])\n",
    "\n",
    "print(f\"The iterated approach took {time.time()-start} seconds\")"
   ]
  },
  {
   "cell_type": "code",
   "execution_count": 5,
   "id": "e38313b2-ba1a-444e-9867-06104d81b33e",
   "metadata": {
    "tags": []
   },
   "outputs": [
    {
     "name": "stdout",
     "output_type": "stream",
     "text": [
      "total_time = 6.227169990539551\n"
     ]
    }
   ],
   "source": [
    "# Timing a calculation\n",
    "import numpy as np\n",
    "import time\n",
    "\n",
    "start = time.time()\n",
    "x = np.linspace(0,2*np.pi,100_000_000)\n",
    "y = np.exp(-x) * (2+np.sin(2*np.pi*x))\n",
    "total_time = time.time() - start\n",
    "\n",
    "print(f'{total_time = }')"
   ]
  },
  {
   "cell_type": "code",
   "execution_count": 6,
   "id": "8f812483-7547-4217-9d01-04cd37a01e03",
   "metadata": {
    "tags": []
   },
   "outputs": [
    {
     "name": "stdout",
     "output_type": "stream",
     "text": [
      "5\n"
     ]
    }
   ],
   "source": [
    "# The fibonacci sequence in recursive fashion (used in debugging demo)\n",
    "def fibonacci_recursive(N):\n",
    "    \"\"\"\n",
    "    Prints out the Nth Fibonacci number to the screen.\n",
    "    SYNTAX: fibonacci_recursive(N)\n",
    "    \"\"\"\n",
    "    if N > 2:\n",
    "        Nminus1 = fibonacci_recursive(N-1)\n",
    "        Nminus2 = fibonacci_recursive(N-2)\n",
    "        out = Nminus1 + Nminus2\n",
    "    elif N == 1 or N == 2:\n",
    "        out = 1\n",
    "    else:\n",
    "        raise ValueError('Input argument was invalid')\n",
    "    return out\n",
    "\n",
    "print(fibonacci_recursive(5))"
   ]
  },
  {
   "cell_type": "code",
   "execution_count": 7,
   "id": "eefa3a70-e017-452a-9fea-3ddcfd7a256e",
   "metadata": {
    "tags": []
   },
   "outputs": [],
   "source": [
    "# Demo subfigure\n",
    "import numpy as np\n",
    "import matplotlib.pyplot as plt\n",
    "\n",
    "x = np.linspace(0,2*np.pi,1001)\n",
    "y1 = np.sin(x)\n",
    "y2 = np.cos(x)\n",
    "\n",
    "ax1 = plt.subplot(2,2,1)\n",
    "ax1.plot(x,y1)\n",
    "\n",
    "ax2 = plt.subplot(2,2,3)\n",
    "ax2.plot(x,y2)\n",
    "\n",
    "ax3 = plt.subplot(1,2,2)\n",
    "ax3.plot(x,np.tan(x))\n",
    "ax3.set_ylim(-10,10)\n",
    "ax3.set_xlim(-5,5)\n",
    "\n",
    "plt.show()"
   ]
  },
  {
   "cell_type": "code",
   "execution_count": 9,
   "id": "e38561fc-0cab-4464-a0c5-5f0ba83eaaf9",
   "metadata": {
    "tags": []
   },
   "outputs": [],
   "source": [
    "# Animation of plots (you should use an external window for the animation to play)\n",
    "import numpy as np\n",
    "import matplotlib.pyplot as plt\n",
    "\n",
    "x = np.linspace(0, 4*np.pi, 100)    \n",
    "y = np.sin(x)\n",
    "y1 = np.cos(x)\n",
    "\n",
    "fig, ax = plt.subplots()\n",
    "line, = ax.plot(x, y, '-')\n",
    "line2, = ax.plot(x, y1, '-')\n",
    "\n",
    "ax.set_xlabel('X')\n",
    "ax.set_ylabel('Y')\n",
    "ax.set_title('Animating a Sine Wave')\n",
    "plt.show(block=False)\n",
    "\n",
    "for i in range(20,len(x)):\n",
    "    line.set_data(x[i-20:i+1], y[i-20:i+1])\n",
    "    line2.set_data(x[i-20:i+1], y1[i-20:i+1])\n",
    "    fig.canvas.draw()\n",
    "    fig.canvas.flush_events()\n",
    "    # fig.savefig(f'anim{i}.png')\n",
    "    plt.pause(0.01)\n",
    "\n"
   ]
  },
  {
   "cell_type": "code",
   "execution_count": 14,
   "id": "2ee4dba7-7495-422f-90d1-2668db505b74",
   "metadata": {
    "tags": []
   },
   "outputs": [],
   "source": [
    "# Matplotlib plot styles\n",
    "import numpy as np\n",
    "import matplotlib.pyplot as plt\n",
    "\n",
    "x = np.linspace(-2*np.pi,2*np.pi,80)\n",
    "y2 = 2*x**2 + 4*x - 3\n",
    "y3 = 20*np.random.rand(y2.size)\n",
    "\n",
    "ax1 = plt.subplot(2, 2, 1)\n",
    "ax1.plot(x,y2)\n",
    "ax1.set_title('Line plot')\n",
    "\n",
    "ax2 = plt.subplot(2, 2, 2)\n",
    "ax2.scatter(x,y3)\n",
    "ax2.set_title('Scatter plot')\n",
    "\n",
    "ax3 = plt.subplot(2, 2, 3)\n",
    "ax3.errorbar(x,y2,yerr=y3)\n",
    "ax3.set_title('Errorbar')\n",
    "\n",
    "ax4 = plt.subplot(2,2,4)\n",
    "ax4.hist(y3)\n",
    "ax4.set_title('Histogram')\n",
    "\n",
    "# plt.savefig('MyFigure.pdf')\n",
    "plt.show()"
   ]
  },
  {
   "cell_type": "code",
   "execution_count": 15,
   "id": "e2c04f46-8c97-4b47-9051-3f2d41f4b9bd",
   "metadata": {
    "tags": []
   },
   "outputs": [],
   "source": [
    "# Matplotlib practice subplot\n",
    "import numpy as np\n",
    "import matplotlib.pyplot as plt\n",
    "\n",
    "x = np.linspace(0,2*np.pi,1000)\n",
    "y1,y2,y3 = np.sin(x), np.cos(x), np.tan(x)\n",
    "\n",
    "ax1 = plt.subplot(2, 2, 1) \n",
    "ax1.plot(x,y1)\n",
    "ax1.set_title('sin(x)')\n",
    "\n",
    "ax2 = plt.subplot(2, 2, 3) \n",
    "ax2.plot(x,y2)\n",
    "ax2.set_title('cos(x)')\n",
    "\n",
    "# Second index of 2x1 grid (whole bottom)\n",
    "ax3 = plt.subplot(1, 2, 2) \n",
    "ax3.plot(x,y3)\n",
    "ax3.set_title('tan(x)')\n",
    "ax3.set_ylim(-10, 10)\n",
    "\n",
    "plt.tight_layout()\n",
    "plt.show()"
   ]
  },
  {
   "cell_type": "code",
   "execution_count": 16,
   "id": "6e8bee23-c59e-44b0-80ed-003d1fc70b29",
   "metadata": {
    "tags": []
   },
   "outputs": [],
   "source": [
    "# Matplotlib practice surface plot\n",
    "from mpl_toolkits.mplot3d import Axes3D\n",
    "from matplotlib import cm\n",
    "import matplotlib.pyplot as plt\n",
    "import numpy as np\n",
    "\n",
    "fig = plt.figure()\n",
    "ax = fig.add_subplot(111, projection='3d')\n",
    "\n",
    "# Make data.\n",
    "x = np.arange(-2, 2, 0.025)\n",
    "y = np.arange(-2, 2, 0.025)\n",
    "x,y = np.meshgrid(x, y)\n",
    "z = x * y * np.exp(-x**2 - y**2)\n",
    "\n",
    "# Plot the surface.\n",
    "surf = ax.plot_surface(x,y,z, \n",
    "       cmap=cm.magma,linewidth=0, antialiased=False)\n",
    "\n",
    "# Customize the z axis.\n",
    "ax.set_zlim(-0.25, 0.25)\n",
    "\n",
    "# Add a color bar which maps values to colors.\n",
    "fig.colorbar(surf, shrink=0.5, aspect=5)\n",
    "\n",
    "plt.show()"
   ]
  },
  {
   "cell_type": "code",
   "execution_count": 17,
   "id": "40965987-97d6-4c2e-92da-b6faaba473e4",
   "metadata": {
    "tags": []
   },
   "outputs": [
    {
     "name": "stdout",
     "output_type": "stream",
     "text": [
      "Execution time is: 3.2868151664733887\n",
      "Execution time NumPy is: 0.1440596580505371\n"
     ]
    }
   ],
   "source": [
    "# Practice arrays / timings\n",
    "import numpy as np\n",
    "import time\n",
    "\n",
    "def f(x):\n",
    "    return x**2 + 2*x - 4\n",
    "\n",
    "x = np.linspace(0,20,10_000_000)\n",
    "\n",
    "y = []\n",
    "start = time.time()\n",
    "for val in x:\n",
    "    y.append(f(val))\n",
    "\n",
    "print(f'Execution time is: {time.time() - start}')\n",
    "\n",
    "start2 = time.time()\n",
    "y = f(x)\n",
    "print(f'Execution time NumPy is: {time.time() - start2}')\n",
    "\n",
    "import matplotlib.pyplot as plt\n",
    "\n",
    "x = np.linspace(0,10)\n",
    "y = x**2 - 4*x\n",
    "plt.plot(x,y)\n",
    "plt.show()"
   ]
  },
  {
   "cell_type": "code",
   "execution_count": null,
   "id": "f9346b52-9476-40de-9fa2-4383f53d99d2",
   "metadata": {},
   "outputs": [],
   "source": []
  }
 ],
 "metadata": {
  "kernelspec": {
   "display_name": "Python 3.11 (XPython Raw)",
   "language": "python",
   "name": "xpython-raw"
  },
  "language_info": {
   "file_extension": ".py",
   "mimetype": "text/x-python",
   "name": "python",
   "version": "3.11.5"
  }
 },
 "nbformat": 4,
 "nbformat_minor": 5
}
