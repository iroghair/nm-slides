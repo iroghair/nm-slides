{
 "cells": [
  {
   "cell_type": "markdown",
   "id": "f7b95640-7585-4d49-9e4f-c2740f36233d",
   "metadata": {
    "tags": []
   },
   "source": [
    "# Introduction to Programming in Python\n",
    "These are the answers to practice exercises presented on the slides during the Numerical Methods lectures. "
   ]
  },
  {
   "cell_type": "markdown",
   "id": "6104b082-8fa8-4a24-a3a6-5a0f17e1bed3",
   "metadata": {
    "tags": []
   },
   "source": [
    "## Lecture 1: Fundamentals of Programming in Python"
   ]
  },
  {
   "cell_type": "markdown",
   "id": "1f10e061-0aa4-4329-a704-996aab24caf7",
   "metadata": {
    "tags": []
   },
   "source": [
    "### Practice lists\n",
    "Given a vector \n",
    "  $x = \\left[2 \\ 4 \\ 6 \\ 8 \\ 10 \\ 12 \\ 14 \\ 16 \\ 18 \\ 20 \\ 30 \\ 40 \\ 50 \\ 60 \\ 70 \\ 80 \\right]$\n",
    "  \n",
    "* Define the vector using `range`'s, without typing all individual elements\n",
    "  "
   ]
  },
  {
   "cell_type": "code",
   "execution_count": 108,
   "id": "a66ac2cc-0798-48c7-add4-2a1e1ac60bf9",
   "metadata": {
    "tags": []
   },
   "outputs": [
    {
     "name": "stdout",
     "output_type": "stream",
     "text": [
      "[2, 4, 6, 8, 10, 12, 14, 16, 18, 20, 30, 40, 50, 60, 70, 80]\n"
     ]
    }
   ],
   "source": [
    "x = list(range(2,20,2)) + list(range(20,90,10))\n",
    "print(x)"
   ]
  },
  {
   "cell_type": "markdown",
   "id": "dabebaa6-a13a-43f6-9edd-da6ecf77d2cf",
   "metadata": {},
   "source": [
    "### Practice strings\n",
    "Given a string\n",
    "```\n",
    "s = \"Python programming is fun!\"\n",
    "```\n",
    "* Find and print the index of the word \"is\".\n",
    "* Create a new string where \"fun\" is replaced with \"awesome\".\n",
    "* Print the string in uppercase."
   ]
  },
  {
   "cell_type": "code",
   "execution_count": 109,
   "id": "06bf6400-717b-4a73-8bae-eb42cd8ae23e",
   "metadata": {
    "tags": []
   },
   "outputs": [
    {
     "name": "stdout",
     "output_type": "stream",
     "text": [
      "PYTHON PROGRAMMING IS AWESOME!\n"
     ]
    }
   ],
   "source": [
    "s = \"Python programming is fun!\"\n",
    "s.index('is')\n",
    "p = s.replace('fun','awesome')\n",
    "print(p.upper())"
   ]
  },
  {
   "cell_type": "markdown",
   "id": "4a074bc1-4aab-49b9-b14d-9e9a0a2718d0",
   "metadata": {},
   "source": [
    "### Practice tuples\n",
    "Given a tuple\n",
    "```\n",
    "t = (1, 2, 3, 4, 5, 6)\n",
    "```\n",
    "* Access and print the third element of the tuple.\n",
    "* Try to change the value of the second element of the tuple.\n",
    "* Create a new tuple by concatenating a second tuple `(7, 8, 9)` to the original tuple."
   ]
  },
  {
   "cell_type": "code",
   "execution_count": 110,
   "id": "ac07099d-cfac-463b-a8ac-83888ba7400b",
   "metadata": {
    "tags": []
   },
   "outputs": [
    {
     "name": "stdout",
     "output_type": "stream",
     "text": [
      "3\n",
      "(1, 2, 3, 4, 5, 6, 7, 8, 9)\n"
     ]
    }
   ],
   "source": [
    "t = (1, 2, 3, 4, 5, 6)\n",
    "print(t[2])\n",
    "# t[2] = 6 << Commented because it gives an error - that's the point :)\n",
    "t2 = t + (7,8,9)\n",
    "print(t2)"
   ]
  },
  {
   "cell_type": "markdown",
   "id": "5523dbb5-38dd-4458-b4c6-1a8d487bff92",
   "metadata": {},
   "source": [
    "### Practice tuples\n",
    "Given a dictionary\n",
    "\n",
    "```\n",
    "d = { 'Alice': 24, 'Bob': 27, 'Charlie': 22, 'Dave': 30}\n",
    "```\n",
    "* Access and print the age of 'Charlie'.\n",
    "* Update 'Alice' age to 25.\n",
    "* Add a new entry for 'Eve' with age 29.\n",
    "* Print all the keys in the dictionary."
   ]
  },
  {
   "cell_type": "code",
   "execution_count": 111,
   "id": "f7f75659-1697-4b69-b67f-e5bc644d4b4f",
   "metadata": {
    "tags": []
   },
   "outputs": [
    {
     "name": "stdout",
     "output_type": "stream",
     "text": [
      "22\n",
      "dict_keys(['Alice', 'Bob', 'Charlie', 'Dave', 'Eve'])\n"
     ]
    }
   ],
   "source": [
    "d = { 'Alice': 24, 'Bob': 27, 'Charlie': 22, 'Dave': 30}\n",
    "print(d['Charlie'])\n",
    "d['Alice'] = 25\n",
    "d['Eve'] = 29\n",
    "print(d.keys())"
   ]
  },
  {
   "cell_type": "markdown",
   "id": "86742309-2393-4869-bacb-abd59cca28ce",
   "metadata": {},
   "source": [
    "### Practice for-loops\n",
    "Given a list\n",
    "\n",
    "```\n",
    "my_list = [1, 3, 7, 8, 9] \n",
    "```\n",
    "* Use a for loop to print each element of the list.\n",
    "* Use a while loop to print the values at indices 0 to 4.\n",
    "* Use a loop to find and print the index of the number 7 in the list."
   ]
  },
  {
   "cell_type": "code",
   "execution_count": 112,
   "id": "ff440e1b-dbd8-43af-993f-28a34285a7cf",
   "metadata": {
    "tags": []
   },
   "outputs": [],
   "source": [
    "my_list = [1, 3, 7, 8, 9] "
   ]
  },
  {
   "cell_type": "code",
   "execution_count": 113,
   "id": "58030f88-32f7-4d17-909b-22ced3c2609c",
   "metadata": {
    "tags": []
   },
   "outputs": [
    {
     "name": "stdout",
     "output_type": "stream",
     "text": [
      "1\n",
      "3\n",
      "7\n",
      "8\n",
      "9\n"
     ]
    }
   ],
   "source": [
    "for i in my_list:\n",
    "    print(i)"
   ]
  },
  {
   "cell_type": "code",
   "execution_count": 114,
   "id": "84dc84d6-c99e-4350-878a-5ebbaf64ed76",
   "metadata": {
    "tags": []
   },
   "outputs": [
    {
     "name": "stdout",
     "output_type": "stream",
     "text": [
      "my_list[c]=1\n",
      "my_list[c]=3\n",
      "my_list[c]=7\n",
      "my_list[c]=8\n"
     ]
    }
   ],
   "source": [
    "c = 0\n",
    "while (c<4):\n",
    "    print(f\"{my_list[c]=}\")\n",
    "    c += 1"
   ]
  },
  {
   "cell_type": "code",
   "execution_count": 115,
   "id": "db399b6e-cf4c-4620-85f4-a2a7ef190135",
   "metadata": {
    "tags": []
   },
   "outputs": [
    {
     "name": "stdout",
     "output_type": "stream",
     "text": [
      "7\n"
     ]
    }
   ],
   "source": [
    "c = 0\n",
    "while not my_list[c] == 7:\n",
    "    c += 1\n",
    "print(my_list[c])"
   ]
  },
  {
   "cell_type": "markdown",
   "id": "67923c9e-da11-4fa8-aa2b-050f1f514da7",
   "metadata": {},
   "source": [
    "### Practice conditions\n",
    "Given a list\n",
    "\n",
    "```\n",
    "my_list = [x**3 for x in range(1,25,2)] # Cubes of odd numbers\n",
    "```\n",
    "* Use an `if` statement to check if 125 is in `my_list`, and print a message indicating the result.\n",
    "* Write a statement that checks and prints whether `my_list[3]` is divisible by 3, and if not, print the remainder.\n",
    "* Use a list comprehension to create a list of all numbers in `my_list` that are not divisible by 5."
   ]
  },
  {
   "cell_type": "code",
   "execution_count": 116,
   "id": "13847a10-d40f-4826-9a13-6fb9046f102a",
   "metadata": {
    "tags": []
   },
   "outputs": [],
   "source": [
    "my_list = [x**3 for x in range(1,25,2)] # Cubes of odd numbers"
   ]
  },
  {
   "cell_type": "code",
   "execution_count": 117,
   "id": "87144b03-da0b-41aa-87f3-2a757457bd07",
   "metadata": {
    "tags": []
   },
   "outputs": [
    {
     "name": "stdout",
     "output_type": "stream",
     "text": [
      "The number 125 was found in my_list!\n"
     ]
    }
   ],
   "source": [
    "if 125 in my_list:\n",
    "    print('The number 125 was found in my_list!')"
   ]
  },
  {
   "cell_type": "code",
   "execution_count": 118,
   "id": "e1fc8535-2d09-4449-90d3-0d254899ed62",
   "metadata": {
    "tags": []
   },
   "outputs": [
    {
     "name": "stdout",
     "output_type": "stream",
     "text": [
      "The remainder of 343 and 3 is 1\n"
     ]
    }
   ],
   "source": [
    "if my_list[3] % 3 == 0:\n",
    "    print(f'{my_list[3]} is divisible by 3')\n",
    "else:\n",
    "    print(f'The remainder of {my_list[3]} and 3 is {my_list[3]%3}')"
   ]
  },
  {
   "cell_type": "code",
   "execution_count": 119,
   "id": "04a843d0-fdf8-4440-872e-b5affd9b847f",
   "metadata": {
    "tags": []
   },
   "outputs": [
    {
     "name": "stdout",
     "output_type": "stream",
     "text": [
      "[1, 27, 343, 729, 1331, 2197, 4913, 6859, 9261, 12167]\n"
     ]
    }
   ],
   "source": [
    "k = [n for n in my_list if not n % 5 == 0 ]\n",
    "print(k)"
   ]
  },
  {
   "cell_type": "markdown",
   "id": "13b5241b-4d5b-4f31-a0c5-90ec51cc0b83",
   "metadata": {},
   "source": [
    "### Practice functions\n",
    "\n",
    "1. Define a function that computes the factorial of a number, $n!$:\n",
    "$$ n! = 1 \\times 2 \\times 3 \\times \\ldots \\times (n-1) \\times n$$\n",
    "2. Compute $\\exp{(x)}$ using the Taylor series, iterate until the change is smaller than $1\\cdot 10^{-6}$:\n",
    "$$\\exp{(x)} = 1 + x + \\frac{x^2}{2!} + \\frac{x^3}{3!} + \\ldots + \\frac{x^n}{n!}$$"
   ]
  },
  {
   "cell_type": "code",
   "execution_count": 120,
   "id": "17857e34-6504-4000-b516-d3a484051058",
   "metadata": {
    "tags": []
   },
   "outputs": [],
   "source": [
    "def factorial(n):\n",
    "    \"\"\"Compute the factorial of n\"\"\"\n",
    "    x = 1\n",
    "    for i in range(1,n+1):\n",
    "        x *= i\n",
    "    return x"
   ]
  },
  {
   "cell_type": "code",
   "execution_count": 121,
   "id": "87d824bb-f069-4a8d-89d2-89965bc69792",
   "metadata": {
    "tags": []
   },
   "outputs": [
    {
     "data": {
      "text/plain": [
       "120"
      ]
     },
     "execution_count": 121,
     "metadata": {},
     "output_type": "execute_result"
    }
   ],
   "source": [
    "# Test factorial:\n",
    "factorial(5)"
   ]
  },
  {
   "cell_type": "code",
   "execution_count": 122,
   "id": "d1755ed9-4315-4851-87c1-eb66590181f1",
   "metadata": {
    "tags": []
   },
   "outputs": [],
   "source": [
    "def exponential(x, eps=1.0e-6):\n",
    "    \"\"\"Compute exponential of x with accuracy eps (default: 1.0e-6)\"\"\"\n",
    "    i = 0\n",
    "    taylor_terms = [x**i/factorial(i)]\n",
    "    \n",
    "    while taylor_terms[-1] >= eps:\n",
    "        i += 1\n",
    "        taylor_terms.append(x**i/factorial(i))\n",
    "    \n",
    "    return sum(taylor_terms), i"
   ]
  },
  {
   "cell_type": "code",
   "execution_count": 123,
   "id": "434de03b-78ab-46d4-aad7-fffa7e01b13e",
   "metadata": {
    "tags": []
   },
   "outputs": [
    {
     "name": "stdout",
     "output_type": "stream",
     "text": [
      "exponential(1) = 2.7182818284467594, it took 13 iterations\n"
     ]
    }
   ],
   "source": [
    "# Test exponential:\n",
    "x = 1\n",
    "result, n_it = exponential(x,1e-9)\n",
    "print(f'exponential({x}) = {result}, it took {n_it} iterations')"
   ]
  },
  {
   "cell_type": "markdown",
   "id": "a5031d88-970d-4f6c-98c2-d4f3b9425123",
   "metadata": {
    "tags": []
   },
   "source": [
    "### Practice functions (2)\n",
    "\n",
    "Define a function that computes the factorial of a number, $n!$, using recursion:\n",
    "$$ n! = 1 \\times 2 \\times 3 \\times \\ldots \\times (n-1) \\times n$$"
   ]
  },
  {
   "cell_type": "code",
   "execution_count": 124,
   "id": "bdb70e33-99f7-4298-b455-6f34956efc24",
   "metadata": {
    "tags": []
   },
   "outputs": [],
   "source": [
    "def factorial_rec(n):\n",
    "    \"\"\"Compute the factorial of n\"\"\"\n",
    "    assert isinstance(n,int) and n >= 0, 'Use positive integers only'\n",
    "\n",
    "    if n==1:\n",
    "        return 1\n",
    "    else:\n",
    "        return n*factorial_rec(n-1) "
   ]
  },
  {
   "cell_type": "code",
   "execution_count": 125,
   "id": "43da24e4-b6d4-4a2f-8ceb-2dfe0183a552",
   "metadata": {
    "tags": []
   },
   "outputs": [
    {
     "data": {
      "text/plain": [
       "120"
      ]
     },
     "execution_count": 125,
     "metadata": {},
     "output_type": "execute_result"
    }
   ],
   "source": [
    "factorial_rec(5)"
   ]
  },
  {
   "cell_type": "markdown",
   "id": "8a4387d8-c7e3-4752-9b85-754f20b804bb",
   "metadata": {},
   "source": [
    "### Practice math module / list comprehensions\n",
    "\n",
    "Use the math module to compute $y=\\sin(x)$ for 9 equidistant points $x\\in \\left[0,2\\pi\\right]$, including end-points.\n",
    "* Use *list comprehensions* to generate the lists `x` and `y`"
   ]
  },
  {
   "cell_type": "code",
   "execution_count": 126,
   "id": "23a2fbf9-dae8-4a4b-8c16-5dcc82fd1a35",
   "metadata": {
    "tags": []
   },
   "outputs": [
    {
     "name": "stdout",
     "output_type": "stream",
     "text": [
      "    0.0000,    0.0000\n",
      "    0.7854,    0.7071\n",
      "    1.5708,    1.0000\n",
      "    2.3562,    0.7071\n",
      "    3.1416,    0.0000\n",
      "    3.9270,   -0.7071\n",
      "    4.7124,   -1.0000\n",
      "    5.4978,   -0.7071\n",
      "    6.2832,   -0.0000\n"
     ]
    }
   ],
   "source": [
    "from math import pi,sin\n",
    "x_values = [x/8*2*pi for x in range(9)]\n",
    "y_values = [sin(x) for x in x_values]\n",
    "\n",
    "for x,y in zip(x_values,y_values):\n",
    "    print(f\"{x: 10.4f},{y: 10.4f}\")"
   ]
  },
  {
   "cell_type": "markdown",
   "id": "b9e85060-553c-4562-a26c-9f3202a9241c",
   "metadata": {},
   "source": [
    "### Practice random module\n",
    "\n",
    "* Create a *function* that returns a list of $N$ dice throws (cubic dice, values 1-6)\n",
    "* Throw the dice many times\n",
    "* Print for each value how often it has been thrown"
   ]
  },
  {
   "cell_type": "code",
   "execution_count": 127,
   "id": "5ce29deb-1af8-43d4-85bc-a0ccf922b701",
   "metadata": {
    "tags": []
   },
   "outputs": [
    {
     "name": "stdout",
     "output_type": "stream",
     "text": [
      "[5, 1, 3, 2, 4, 4, 3, 5, 2, 6, 3, 1, 3, 1, 2, 5, 3, 3, 5, 6, 5, 2, 6, 1, 4, 3, 5, 6, 2, 5, 4, 2, 4, 4, 2, 1, 6, 4, 6, 5]\n",
      "Value 1 was thrown 5 times\n",
      "Value 2 was thrown 7 times\n",
      "Value 3 was thrown 7 times\n",
      "Value 4 was thrown 7 times\n",
      "Value 5 was thrown 8 times\n",
      "Value 6 was thrown 6 times\n"
     ]
    }
   ],
   "source": [
    "import random as rnd\n",
    "\n",
    "def throw_dice(N):\n",
    "    return [rnd.randint(1,6) for _ in range(N)]\n",
    "\n",
    "throws = throw_dice(40)\n",
    "print(throws)\n",
    "\n",
    "for i in range(1,7):\n",
    "    n = len([t for t in throws if t==i])\n",
    "    print(f\"Value {i} was thrown {n} times\")"
   ]
  },
  {
   "cell_type": "markdown",
   "id": "bd93f080-c70c-4d6c-9c4c-b8eda0db426a",
   "metadata": {},
   "source": [
    "## Exercises at end of slide deck 1\n",
    "### Practice lists, vectors and arrays\n",
    "* Create a list `x` with the elements:\n",
    "    * `[2, 4, 6, 8, ..., 16]`\n",
    "    * `[0, 0.5, 2/3, 3/4, ..., 99/100]`\n"
   ]
  },
  {
   "cell_type": "code",
   "execution_count": 128,
   "id": "e10c34bc-856f-425e-864b-1cbd198fc793",
   "metadata": {
    "tags": []
   },
   "outputs": [
    {
     "name": "stdout",
     "output_type": "stream",
     "text": [
      "[ 2  4  6  8 10 12 14 16]\n",
      "[0.         0.5        0.66666667 0.75       0.8        0.83333333\n",
      " 0.85714286 0.875      0.88888889 0.9        0.90909091 0.91666667\n",
      " 0.92307692 0.92857143 0.93333333 0.9375     0.94117647 0.94444444\n",
      " 0.94736842 0.95       0.95238095 0.95454545 0.95652174 0.95833333\n",
      " 0.96       0.96153846 0.96296296 0.96428571 0.96551724 0.96666667\n",
      " 0.96774194 0.96875    0.96969697 0.97058824 0.97142857 0.97222222\n",
      " 0.97297297 0.97368421 0.97435897 0.975      0.97560976 0.97619048\n",
      " 0.97674419 0.97727273 0.97777778 0.97826087 0.9787234  0.97916667\n",
      " 0.97959184 0.98       0.98039216 0.98076923 0.98113208 0.98148148\n",
      " 0.98181818 0.98214286 0.98245614 0.98275862 0.98305085 0.98333333\n",
      " 0.98360656 0.98387097 0.98412698 0.984375   0.98461538 0.98484848\n",
      " 0.98507463 0.98529412 0.98550725 0.98571429 0.98591549 0.98611111\n",
      " 0.98630137 0.98648649 0.98666667 0.98684211 0.98701299 0.98717949\n",
      " 0.98734177 0.9875     0.98765432 0.98780488 0.98795181 0.98809524\n",
      " 0.98823529 0.98837209 0.98850575 0.98863636 0.98876404 0.98888889\n",
      " 0.98901099 0.98913043 0.98924731 0.9893617  0.98947368 0.98958333\n",
      " 0.98969072 0.98979592 0.98989899 0.99      ]\n"
     ]
    }
   ],
   "source": [
    "import numpy as np\n",
    "x = np.arange(2,18,2)\n",
    "print(x)\n",
    "y = np.arange(0,100,1) / np.arange(1,101,1)\n",
    "print(y)"
   ]
  },
  {
   "cell_type": "markdown",
   "id": "c1c40267-e99e-4f88-a37f-6fd544c861fe",
   "metadata": {},
   "source": [
    "* Create a list `x` with the elements: $\\displaystyle x_n = \\frac{(-1)^n}{2n-1}$ for $n=1,2,3,\\ldots,200$. Find the sum of the first 50 elements $x_1,\\ldots,x_{50}$."
   ]
  },
  {
   "cell_type": "code",
   "execution_count": 129,
   "id": "7a0c8091-59bd-479b-8f9e-f7591a9f6361",
   "metadata": {
    "tags": []
   },
   "outputs": [
    {
     "data": {
      "text/plain": [
       "-0.7902996532467627"
      ]
     },
     "execution_count": 129,
     "metadata": {},
     "output_type": "execute_result"
    }
   ],
   "source": [
    "x = [(-1)**n/(2*n-1) for n in range(1,201)]\n",
    "sum(x[:51])"
   ]
  },
  {
   "cell_type": "markdown",
   "id": "f068df36-f9c9-4f84-abc9-08d8116819d1",
   "metadata": {},
   "source": [
    "* Let `x = list(range(20, 201, 10))`. Create a list `y` of the same length as `x` such that:\n",
    "    * `y[i] = x[i] - 3`\n",
    "    * `y[i] = x[i]` for every even index \\(i\\) and `y[i] = x[i] + 11` for every odd index \\(i\\)."
   ]
  },
  {
   "cell_type": "code",
   "execution_count": 130,
   "id": "9386878c-adfd-4bce-83fd-78c62046e8ed",
   "metadata": {
    "tags": []
   },
   "outputs": [
    {
     "name": "stdout",
     "output_type": "stream",
     "text": [
      "[17, 27, 37, 47, 57, 67, 77, 87, 97, 107, 117, 127, 137, 147, 157, 167, 177, 187, 197]\n",
      "[20, 41, 40, 61, 60, 81, 80, 101, 100, 121, 120, 141, 140, 161, 160, 181, 180, 201, 200]\n"
     ]
    }
   ],
   "source": [
    "x = list(range(20, 201, 10))\n",
    "y1 = [i-3 for i in x]\n",
    "y2 = [value if index%2==0 else value + 11 for index,value in enumerate(x)]\n",
    "print(y1)\n",
    "print(y2)"
   ]
  },
  {
   "cell_type": "markdown",
   "id": "94c5f4e2-903e-4e5e-9f55-afa05a04a6ea",
   "metadata": {
    "tags": []
   },
   "source": [
    "* Let `T = np.array([[3, 4, 6], [1, 8, 6], [-4, 3, 6], [5, 6, 6]])`. Perform the following operations on T:\n",
    "    * Retrieve a list consisting of the 2nd and 4th elements of the 3rd row.\n",
    "    * Find the minimum of the 3rd column.\n",
    "    * Find the maximum of the 2nd row.\n",
    "    * Compute the sum of the 2nd column\n",
    "    * Compute the mean of the row 1 and the mean of row 3"
   ]
  },
  {
   "cell_type": "code",
   "execution_count": 131,
   "id": "e8bcd83e-cf50-4c85-afca-8e4425c51658",
   "metadata": {
    "tags": []
   },
   "outputs": [
    {
     "data": {
      "text/plain": [
       "array([[ 3,  1, -4,  5],\n",
       "       [ 4,  8,  3,  6],\n",
       "       [ 6,  6,  6,  6]])"
      ]
     },
     "execution_count": 131,
     "metadata": {},
     "output_type": "execute_result"
    }
   ],
   "source": [
    "T = np.array([[3, 4, 6], [1, 8, 6], [-4, 3, 6], [5, 6, 6]]).T\n",
    "T"
   ]
  },
  {
   "cell_type": "code",
   "execution_count": 132,
   "id": "e9cf8580-8a29-440f-922d-29890f53d148",
   "metadata": {
    "tags": []
   },
   "outputs": [
    {
     "data": {
      "text/plain": [
       "array([8, 6])"
      ]
     },
     "execution_count": 132,
     "metadata": {},
     "output_type": "execute_result"
    }
   ],
   "source": [
    "x1 = T[1,1:4:2]\n",
    "x1"
   ]
  },
  {
   "cell_type": "code",
   "execution_count": 133,
   "id": "56d63c47-ad6c-43ce-968b-87c522ed1c09",
   "metadata": {
    "tags": []
   },
   "outputs": [
    {
     "data": {
      "text/plain": [
       "8"
      ]
     },
     "execution_count": 133,
     "metadata": {},
     "output_type": "execute_result"
    }
   ],
   "source": [
    "max(T[1,:])"
   ]
  },
  {
   "cell_type": "code",
   "execution_count": 134,
   "id": "c19290bd-236f-4d6b-bec9-89ae21d302bd",
   "metadata": {
    "tags": []
   },
   "outputs": [
    {
     "data": {
      "text/plain": [
       "15"
      ]
     },
     "execution_count": 134,
     "metadata": {},
     "output_type": "execute_result"
    }
   ],
   "source": [
    "sum(T[:,1])"
   ]
  },
  {
   "cell_type": "code",
   "execution_count": 135,
   "id": "64084cf7-6363-4e44-8f8e-3720fef4c583",
   "metadata": {
    "tags": []
   },
   "outputs": [
    {
     "data": {
      "text/plain": [
       "6.0"
      ]
     },
     "execution_count": 135,
     "metadata": {},
     "output_type": "execute_result"
    }
   ],
   "source": [
    "np.mean(T[0,:])\n",
    "np.mean(T[2,:])"
   ]
  },
  {
   "cell_type": "markdown",
   "id": "1d5c3846-adf1-4622-9757-403c1d27a890",
   "metadata": {},
   "source": [
    "### Practice plotting\n",
    "* Plot the functions $f(x)=x,\\ g(x)=x^3,\\ h(x)=e^x$ and $z(x)=e^{x^2}$ over the interval $[0,4]$ on the normal scale and on the log-log scale. Use an appropriate sampling to get smooth curves. Describe your plots by using the functions: `plt.xlabel`, `plt.ylabel`, `plt.title` and `plt.legend`.\n",
    "* Make a plot of the functions: $f(x)=sin(1/x)$ and $g(x)=cos(1/x)$ over the interval $[0.01,0.1]$. How do you create `x` so that the plots look sufficiently smooth?\n",
    "    "
   ]
  },
  {
   "cell_type": "markdown",
   "id": "6d8bedfb-2fe5-44db-bf35-4796fbde5ff6",
   "metadata": {},
   "source": [
    "### Practice control flow and loops (1)\n",
    "Write a function that uses two logical input arguments with the following behaviour: \n",
    "$$     \\begin{align*}\n",
    "       f(\\text{true},\\text{true}) \\mapsto \\text{false} \\\\\n",
    "      f(\\text{false},\\text{true}) \\mapsto \\text{true} \\\\ \n",
    "      f(\\text{true},\\text{false}) \\mapsto \\text{true} \\\\\n",
    "      f(\\text{false},\\text{false}) \\mapsto \\text{false} \\\\\n",
    "    \\end{align*}  $$"
   ]
  },
  {
   "cell_type": "code",
   "execution_count": 136,
   "id": "e795283a-9006-48e1-b06a-32b6152ae724",
   "metadata": {
    "tags": []
   },
   "outputs": [
    {
     "data": {
      "text/plain": [
       "False"
      ]
     },
     "execution_count": 136,
     "metadata": {},
     "output_type": "execute_result"
    }
   ],
   "source": [
    "def my_xor(in1,in2):\n",
    "    return in1 != in2\n",
    "\n",
    "# You can also make a large decision tree based on if-else-etc :)\n",
    "\n",
    "my_xor(True,True)"
   ]
  },
  {
   "cell_type": "markdown",
   "id": "665a9fab-e66f-4730-bba2-092db1f238c7",
   "metadata": {},
   "source": [
    "Write a function that computes the factorial of x:\n",
    "$$ f(x) = x! = 1 \\times 2 \\times 3 \\times 4 \\times \\ldots \\times x$$\n",
    "* Using a loop-construction\n",
    "* Using recursion"
   ]
  },
  {
   "cell_type": "code",
   "execution_count": null,
   "id": "f239908f-24a4-47d2-aa70-33e3da8691f0",
   "metadata": {},
   "outputs": [],
   "source": []
  },
  {
   "cell_type": "markdown",
   "id": "9d2d0f1f-b873-4cda-b0d3-0e8003b2f9e6",
   "metadata": {
    "tags": []
   },
   "source": [
    "### Practice control flow and loops (2)\n",
    "* Write a function that computes the exponential function using the Taylor series\n",
    "$$ e^x = 1 + x + \\frac{x^2}{2!} + \\frac{x^3}{3!} + \\ldots $$ \n",
    "until the last term is smaller than $10^{-6}$.\n"
   ]
  },
  {
   "cell_type": "code",
   "execution_count": null,
   "id": "6ea64e8e-6f99-4541-8e26-7a814102477a",
   "metadata": {},
   "outputs": [],
   "source": []
  },
  {
   "cell_type": "markdown",
   "id": "3421e3b8-5be2-4012-8a26-c4f6b7989447",
   "metadata": {},
   "source": [
    "* Use a script to compute the result of the following series:\n",
    "  $$ f_n = \\sum_{n=1}^{\\infty} \\frac{1}{\\pi^2 n^2} $$"
   ]
  },
  {
   "cell_type": "code",
   "execution_count": null,
   "id": "0f2b1c2b-8147-43ec-8183-0ef99c3d8259",
   "metadata": {},
   "outputs": [],
   "source": []
  },
  {
   "cell_type": "markdown",
   "id": "8cc4235a-0c10-4a5c-81c9-3c908f4833cf",
   "metadata": {},
   "source": [
    "* Plot in two vertically aligned subplots i) The result as a function of $n$, and ii) the difference with the earlier mentioned fraction as a function of n. For the latter, consider carefully the axis scale!     "
   ]
  },
  {
   "cell_type": "code",
   "execution_count": null,
   "id": "78a1b64c-9ea5-400f-9676-ba102a1fbb64",
   "metadata": {},
   "outputs": [],
   "source": []
  },
  {
   "cell_type": "markdown",
   "id": "a47093e0-4bd1-4cdb-bafa-ffa29144dabc",
   "metadata": {},
   "source": [
    "### Practice control flow and loops (2)\n",
    "Let `x = np.linspace(-4,4,1000)`, $y_1 = 3x^2 - 4x - 6$ and $y_2 = 1.5x - 1$. Use logical indexing to determine function $y_3 = \\mathrm{max}(\\mathrm{max}(y_1,y_2),0)$. Plot the function."
   ]
  },
  {
   "cell_type": "code",
   "execution_count": null,
   "id": "718e3362-86f9-4a3a-bda0-47937e68bc2d",
   "metadata": {},
   "outputs": [],
   "source": []
  },
  {
   "cell_type": "markdown",
   "id": "5db3707e-e4e7-43f0-bc4b-c3e71d8d5d70",
   "metadata": {},
   "source": [
    "Consider these data concerning the age (in years), length (in cm) and weight (in kg) of twelve adult men: \n",
    "\n",
    "```\n",
    "A = [41 25 33 29 64 34 47 38 49 32 26 26]\n",
    "H = [165 186 177 190 156 174 164 205 184 190 165 171]\n",
    "W = [75 90 97 60 74 65 101 85 91 75 87 70]\n",
    "```\n",
    "\n",
    "* Calculate the average of all vectors (age, weight and length).\n",
    "* Combine the command `len` with logical indexing to determine how many men in the group are taller than 182 cm.\n",
    "* What is the average age of men with a body-mass index ($B \\equiv \\frac{W}{L^2}$ with $W$ in kg and $L$ in m) larger than 25? And for men with a $B<25$?\n",
    "* How many men are older than the average and at the same time have a BMI below 25?"
   ]
  },
  {
   "cell_type": "code",
   "execution_count": null,
   "id": "821b03ba-889d-4de2-a31e-50cfd7e16d58",
   "metadata": {},
   "outputs": [],
   "source": []
  },
  {
   "cell_type": "markdown",
   "id": "7b522a5e-a839-4abc-bdac-b6ea2bb064b7",
   "metadata": {},
   "source": [
    "The unsteady 1D heat equation in 1D in a slab of material is given as:\n",
    "  $$\\frac{\\partial T}{\\partial t} = k\\frac{\\partial^2 T}{\\partial x^2} $$\n",
    "We can express the temperature profile $T(x,t)$ in the slab using a Fourier sine series. For an initial profile T(x,0) = 20 and fixed boundary values T(0,t) = T(L,t) = 0, the solution is given as:\n",
    "$$T(x,t) = \\sum_{n=1}^{n=\\infty}\\frac{40(1-(-1)^n)}{n\\pi}  \\sin\\left(\\frac{n\\pi x}{L}\\right) \\exp\\left(-kt\\frac{n \\pi}{L}^2\\right)$$\n",
    "\n",
    "Create a script to solve this equation using loops and/or conditional statements, and plot for a variety of cases."
   ]
  },
  {
   "cell_type": "code",
   "execution_count": null,
   "id": "eeee13e8-7083-4643-b408-cbc50491c6a8",
   "metadata": {},
   "outputs": [],
   "source": []
  },
  {
   "cell_type": "markdown",
   "id": "5cf90210-bb43-47a6-8beb-cfc01e77b1b6",
   "metadata": {
    "tags": []
   },
   "source": [
    "## Lecture 2: Scientific Computing in Python"
   ]
  },
  {
   "cell_type": "markdown",
   "id": "cb99d6f1-4fd3-4a25-9aba-9ccfd9fce7a1",
   "metadata": {},
   "source": [
    "### Practice NumPy\n",
    "Given a function $\\displaystyle  f(x) = x^2+2x-4 $\n",
    "\n",
    "*  Create a large `np.linspace` of $x\\in[0,20]$ e.g. with 1M numbers\n",
    "    * Compute $f(x)$ iteratively (i.e. with a .loop)\n",
    "    * Compute $f(x)$ vectorized (i.e. using NumPy operations)\n",
    "    * Compare timings"
   ]
  },
  {
   "cell_type": "code",
   "execution_count": 137,
   "id": "fb5dd694-9b4f-45ee-9337-bc361e38d856",
   "metadata": {},
   "outputs": [
    {
     "name": "stdout",
     "output_type": "stream",
     "text": [
      "The vectorized approach took 0.18544554710388184 seconds\n",
      "The iterated approach took 4.001703977584839 seconds\n"
     ]
    }
   ],
   "source": [
    "import time\n",
    "\n",
    "def f(x):\n",
    "    return x**2+2*x-4\n",
    "\n",
    "long_data = np.linspace(0,20,10_000_000)\n",
    "\n",
    "start = time.time()\n",
    "y1 = f(long_data)\n",
    "print(f\"The vectorized approach took {time.time()-start} seconds\")\n",
    "\n",
    "y2 = np.zeros_like(long_data)\n",
    "start = time.time()\n",
    "for i in range(len(long_data)):\n",
    "    y2[i] = f(long_data[i])\n",
    "print(f\"The iterated approach took {time.time()-start} seconds\")"
   ]
  },
  {
   "attachments": {
    "516813cf-8599-4b9a-872d-a09b0dcff0be.png": {
     "image/png": "[encoded data removed]"
    }
   },
   "cell_type": "markdown",
   "id": "d3e3f6ed-ca85-491d-8338-f1765b12911a",
   "metadata": {},
   "source": [
    "### Practice Subfig\n",
    "Create the following figure:\n",
    "![image.png](attachment:516813cf-8599-4b9a-872d-a09b0dcff0be.png)\n"
   ]
  },
  {
   "cell_type": "code",
   "execution_count": 138,
   "id": "ed54be92-44ac-4fdc-addc-a5255d03bda5",
   "metadata": {
    "tags": []
   },
   "outputs": [
    {
     "data": {
      "text/plain": [
       "(-10.0, 10.0)"
      ]
     },
     "execution_count": 138,
     "metadata": {},
     "output_type": "execute_result"
    },
    {
     "data": {
      "image/png": "[encoded data removed]",
      "text/plain": [
       "<Figure size 640x480 with 3 Axes>"
      ]
     },
     "metadata": {},
     "output_type": "display_data"
    }
   ],
   "source": [
    "import numpy as np\n",
    "import matplotlib.pyplot as plt\n",
    "x = np.linspace(0,2*np.pi,1000)\n",
    "y1,y2,y3 = np.sin(x), np.cos(x), np.tan(x)\n",
    "\n",
    "ax1 = plt.subplot(2, 2, 1) \n",
    "ax1.plot(x,y1)\n",
    "ax1.set_title('sin(x)')\n",
    "\n",
    "ax2 = plt.subplot(2, 2, 3) \n",
    "ax2.plot(x,y2)\n",
    "ax2.set_title('cos(x)')\n",
    "\n",
    "# Second index of 2x1 grid (whole bottom)\n",
    "ax3 = plt.subplot(1, 2, 2) \n",
    "ax3.plot(x,y3)\n",
    "ax3.set_title('tan(x)')\n",
    "ax3.set_ylim(-10, 10)"
   ]
  },
  {
   "cell_type": "code",
   "execution_count": null,
   "id": "fed25e9c-e1d6-4da9-8927-87365c52c5ec",
   "metadata": {},
   "outputs": [],
   "source": []
  }
 ],
 "metadata": {
  "kernelspec": {
   "display_name": "Python 3.11 (XPython)",
   "language": "python",
   "name": "xpython"
  },
  "language_info": {
   "file_extension": ".py",
   "mimetype": "text/x-python",
   "name": "python",
   "version": "3.11.5"
  }
 },
 "nbformat": 4,
 "nbformat_minor": 5
}
