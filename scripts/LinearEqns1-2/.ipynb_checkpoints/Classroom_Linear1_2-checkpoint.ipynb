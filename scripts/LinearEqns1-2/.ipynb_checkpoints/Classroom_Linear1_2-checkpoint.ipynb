{
 "cells": [
  {
   "cell_type": "code",
   "execution_count": 19,
   "id": "9d326ceb-b2fd-425e-a1bd-0419f42b2032",
   "metadata": {
    "tags": []
   },
   "outputs": [],
   "source": [
    "import numpy as np\n",
    "import time\n",
    "import matplotlib.pyplot as plt"
   ]
  },
  {
   "cell_type": "code",
   "execution_count": 2,
   "id": "92431e56-636b-4685-ac2d-e818b76b81e4",
   "metadata": {
    "tags": []
   },
   "outputs": [
    {
     "name": "stdout",
     "output_type": "stream",
     "text": [
      "[[1 1 1]\n",
      " [2 1 3]\n",
      " [3 1 6]]\n"
     ]
    }
   ],
   "source": [
    "A = np.array([[1,1,1],[2,1,3],[3,1,6]])\n",
    "print(A)"
   ]
  },
  {
   "cell_type": "code",
   "execution_count": 3,
   "id": "989312f1-b99a-43da-bb67-65575e3429bb",
   "metadata": {
    "tags": []
   },
   "outputs": [
    {
     "name": "stdout",
     "output_type": "stream",
     "text": [
      "[4 7 5]\n"
     ]
    }
   ],
   "source": [
    "b = np.array([4,7,5])\n",
    "print(b)"
   ]
  },
  {
   "cell_type": "code",
   "execution_count": 4,
   "id": "19c700af-5f1e-4a2b-867e-3ce58b721fb5",
   "metadata": {
    "tags": []
   },
   "outputs": [
    {
     "name": "stdout",
     "output_type": "stream",
     "text": [
      "[[-3.  5. -2.]\n",
      " [ 3. -3.  1.]\n",
      " [ 1. -2.  1.]]\n"
     ]
    }
   ],
   "source": [
    "Ainv = np.linalg.inv(A)\n",
    "print(Ainv)"
   ]
  },
  {
   "cell_type": "code",
   "execution_count": 6,
   "id": "78aa07ee-b60e-45a8-a36f-a29d72b15471",
   "metadata": {
    "tags": []
   },
   "outputs": [
    {
     "data": {
      "text/plain": [
       "array([13., -4., -5.])"
      ]
     },
     "execution_count": 6,
     "metadata": {},
     "output_type": "execute_result"
    }
   ],
   "source": [
    "Ainv @ b"
   ]
  },
  {
   "cell_type": "code",
   "execution_count": 7,
   "id": "90e2578f-ac1f-4b83-9df2-6ff9657c1e26",
   "metadata": {
    "tags": []
   },
   "outputs": [
    {
     "name": "stdout",
     "output_type": "stream",
     "text": [
      "[13. -4. -5.]\n"
     ]
    }
   ],
   "source": [
    "x = np.linalg.solve(A,b)\n",
    "print(x)"
   ]
  },
  {
   "cell_type": "code",
   "execution_count": 17,
   "id": "65c7bd08-c8ad-4f49-b1ca-0d023e76e3e4",
   "metadata": {
    "tags": []
   },
   "outputs": [
    {
     "name": "stdout",
     "output_type": "stream",
     "text": [
      "Currently processing matrix of size 10\n",
      "Currently processing matrix of size 20\n",
      "Currently processing matrix of size 50\n",
      "Currently processing matrix of size 100\n",
      "Currently processing matrix of size 200\n",
      "Currently processing matrix of size 500\n",
      "Currently processing matrix of size 1000\n",
      "Currently processing matrix of size 2000\n",
      "Currently processing matrix of size 5000\n",
      "Currently processing matrix of size 10000\n",
      "Done!\n"
     ]
    }
   ],
   "source": [
    "sizes = [10,20,50,100,200,500,1000,2000,5000,10000]\n",
    "total_time = []\n",
    "for s in sizes:\n",
    "    print(f'Currently processing matrix of size {s}')\n",
    "    A = np.random.rand(s,s)\n",
    "    start_time = time.time()\n",
    "    Ainv = np.linalg.inv(A)\n",
    "    total_time.append(time.time() - start_time)\n",
    "print('Done!')"
   ]
  },
  {
   "cell_type": "code",
   "execution_count": 22,
   "id": "1366f36f-0f33-4d72-b733-9489191396ff",
   "metadata": {
    "tags": []
   },
   "outputs": [
    {
     "data": {
      "text/plain": [
       "Text(0, 0.5, 'Total time [s]')"
      ]
     },
     "execution_count": 22,
     "metadata": {},
     "output_type": "execute_result"
    },
    {
     "data": {
      "image/png": "[encoded data removed]",
      "text/plain": [
       "<Figure size 640x480 with 1 Axes>"
      ]
     },
     "metadata": {},
     "output_type": "display_data"
    }
   ],
   "source": [
    "plt.loglog(sizes, total_time, 'r-o')\n",
    "plt.xlabel('Matrix size')\n",
    "plt.ylabel('Total time [s]')"
   ]
  },
  {
   "cell_type": "markdown",
   "id": "2215d74c-a588-412d-8810-52148863dc4e",
   "metadata": {},
   "source": [
    "### Session 2"
   ]
  },
  {
   "cell_type": "code",
   "execution_count": 23,
   "id": "42d8a764-c0b4-439a-b5a4-024e376c8c6f",
   "metadata": {
    "tags": []
   },
   "outputs": [],
   "source": [
    "M = np.array([[5,3,2],[0,9,1],[0,0,1]])"
   ]
  },
  {
   "cell_type": "code",
   "execution_count": 24,
   "id": "55bae617-9dba-42a4-9481-c73ae7663c1e",
   "metadata": {
    "tags": []
   },
   "outputs": [
    {
     "data": {
      "text/plain": [
       "3"
      ]
     },
     "execution_count": 24,
     "metadata": {},
     "output_type": "execute_result"
    }
   ],
   "source": [
    "np.linalg.matrix_rank(M)"
   ]
  },
  {
   "cell_type": "code",
   "execution_count": 25,
   "id": "3bd3609b-9192-4c16-92ae-338d294dc7b7",
   "metadata": {
    "tags": []
   },
   "outputs": [
    {
     "name": "stdout",
     "output_type": "stream",
     "text": [
      "[[5 3 2 4]\n",
      " [0 9 1 7]\n",
      " [0 0 1 5]]\n"
     ]
    }
   ],
   "source": [
    "Maug = np.column_stack((M,b))\n",
    "print(Maug)"
   ]
  },
  {
   "cell_type": "code",
   "execution_count": 26,
   "id": "b6f21388-6550-4f45-aec6-c12cc97cacfb",
   "metadata": {
    "tags": []
   },
   "outputs": [],
   "source": [
    "Maug = np.c_[M,b]"
   ]
  },
  {
   "cell_type": "code",
   "execution_count": 27,
   "id": "961e6afc-0b25-4b6c-8844-eed362de6f7f",
   "metadata": {
    "tags": []
   },
   "outputs": [
    {
     "name": "stdout",
     "output_type": "stream",
     "text": [
      "[[5 3 2 4]\n",
      " [0 9 1 7]\n",
      " [0 0 1 5]]\n"
     ]
    }
   ],
   "source": [
    "print(Maug)"
   ]
  },
  {
   "cell_type": "code",
   "execution_count": 28,
   "id": "d4bdc6d4-8e58-424e-af48-6c481b223a24",
   "metadata": {
    "tags": []
   },
   "outputs": [
    {
     "data": {
      "text/plain": [
       "3"
      ]
     },
     "execution_count": 28,
     "metadata": {},
     "output_type": "execute_result"
    }
   ],
   "source": [
    "np.linalg.matrix_rank(Maug)"
   ]
  },
  {
   "cell_type": "markdown",
   "id": "a63b0967-cff5-4f80-9d43-c491bea1b100",
   "metadata": {},
   "source": [
    "## Gauss Elimination"
   ]
  },
  {
   "cell_type": "code",
   "execution_count": 29,
   "id": "6593e211-0d7f-46b1-a683-1bd5c43a3f3f",
   "metadata": {
    "tags": []
   },
   "outputs": [],
   "source": [
    "A = np.array([[1,1,1],[2,1,3],[3,1,6]])\n",
    "b = np.array([4,7,5])"
   ]
  },
  {
   "cell_type": "code",
   "execution_count": 33,
   "id": "967624ae-a07a-4155-b74f-23d189b0eacf",
   "metadata": {
    "tags": []
   },
   "outputs": [
    {
     "name": "stdout",
     "output_type": "stream",
     "text": [
      "Elimination factor 2.0\n",
      "[[ 1  1  1]\n",
      " [ 0 -1  1]\n",
      " [ 3  1  6]]\n",
      "[ 4 -1  5]\n"
     ]
    }
   ],
   "source": [
    "d10 = A[1,0] / A[0,0]\n",
    "\n",
    "print(f'Elimination factor {d10}')\n",
    "\n",
    "A[1,0] = A[1,0] - d10 * A[0,0]\n",
    "A[1,1] = A[1,1] - d10 * A[0,1]\n",
    "A[1,2] = A[1,2] - d10 * A[0,2]\n",
    "b[1] = b[1] - d10 * b[0]\n",
    "\n",
    "print(A)\n",
    "print(b)"
   ]
  },
  {
   "cell_type": "code",
   "execution_count": 35,
   "id": "7a01ff86-c4d5-4b6e-b314-4d5a25e34a93",
   "metadata": {
    "tags": []
   },
   "outputs": [
    {
     "name": "stdout",
     "output_type": "stream",
     "text": [
      "Elimination factor 2.0\n",
      "[[ 1  1  1]\n",
      " [ 0 -1  1]\n",
      " [ 0  4 -6]]\n",
      "[ 4 -1 17]\n"
     ]
    }
   ],
   "source": [
    "d20 = A[2,0] / A[0,0]\n",
    "\n",
    "print(f'Elimination factor {d10}')\n",
    "\n",
    "A[2,0] = A[2,0] - d20 * A[0,0]\n",
    "A[2,1] = A[2,1] - d20 * A[0,1]\n",
    "A[2,2] = A[2,2] - d20 * A[0,2]\n",
    "b[2] = b[2] - d20 * b[0]\n",
    "\n",
    "print(A)\n",
    "print(b)"
   ]
  },
  {
   "cell_type": "code",
   "execution_count": null,
   "id": "c3a9d35d-59dc-4e43-9188-24c00566f151",
   "metadata": {},
   "outputs": [],
   "source": []
  }
 ],
 "metadata": {
  "kernelspec": {
   "display_name": "Python 3 (ipykernel)",
   "language": "python",
   "name": "python3"
  },
  "language_info": {
   "codemirror_mode": {
    "name": "ipython",
    "version": 3
   },
   "file_extension": ".py",
   "mimetype": "text/x-python",
   "name": "python",
   "nbconvert_exporter": "python",
   "pygments_lexer": "ipython3",
   "version": "3.11.6"
  }
 },
 "nbformat": 4,
 "nbformat_minor": 5
}
