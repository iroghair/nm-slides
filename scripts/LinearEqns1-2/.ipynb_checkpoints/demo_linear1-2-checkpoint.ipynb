{
 "cells": [
  {
   "cell_type": "markdown",
   "id": "e775bd06-b19b-460f-bed6-6860b63db78a",
   "metadata": {
    "tags": []
   },
   "source": [
    "# Linear systems\n",
    "## Existence and inverse"
   ]
  },
  {
   "cell_type": "code",
   "execution_count": 1,
   "id": "1d48e87c-0b02-43df-baae-6db0c305d472",
   "metadata": {
    "tags": []
   },
   "outputs": [
    {
     "data": {
      "text/plain": [
       "array([[1, 1, 1],\n",
       "       [2, 1, 3],\n",
       "       [3, 1, 6]])"
      ]
     },
     "execution_count": 1,
     "metadata": {},
     "output_type": "execute_result"
    }
   ],
   "source": [
    "import numpy as np\n",
    "A = np.array([[1, 1, 1], [2, 1, 3], [3, 1, 6]]) \n",
    "A"
   ]
  },
  {
   "cell_type": "code",
   "execution_count": 2,
   "id": "d3a8fba4-e419-4e6a-996f-cab80cf2468b",
   "metadata": {
    "tags": []
   },
   "outputs": [
    {
     "data": {
      "text/plain": [
       "array([4, 7, 5])"
      ]
     },
     "execution_count": 2,
     "metadata": {},
     "output_type": "execute_result"
    }
   ],
   "source": [
    "b = np.array([4, 7, 5]) \n",
    "b"
   ]
  },
  {
   "cell_type": "code",
   "execution_count": 3,
   "id": "279ec260-092f-4c79-a21f-73cc61e89ea6",
   "metadata": {
    "tags": []
   },
   "outputs": [
    {
     "data": {
      "text/plain": [
       "array([[-3.,  5., -2.],\n",
       "       [ 3., -3.,  1.],\n",
       "       [ 1., -2.,  1.]])"
      ]
     },
     "execution_count": 3,
     "metadata": {},
     "output_type": "execute_result"
    }
   ],
   "source": [
    "Ainv = np.linalg.inv(A) \n",
    "Ainv"
   ]
  },
  {
   "cell_type": "code",
   "execution_count": 4,
   "id": "16d3736f-245d-4d7c-bf13-fedf1b5c4c16",
   "metadata": {
    "tags": []
   },
   "outputs": [
    {
     "name": "stdout",
     "output_type": "stream",
     "text": [
      "[13. -4. -5.]\n",
      "[13. -4. -5.]\n"
     ]
    }
   ],
   "source": [
    "x = np.dot(Ainv, b)\n",
    "print(x)\n",
    "\n",
    "x = Ainv @ b\n",
    "print(x)"
   ]
  },
  {
   "cell_type": "code",
   "execution_count": 5,
   "id": "825e52c2-8a51-4547-abbf-198a63253da6",
   "metadata": {
    "tags": []
   },
   "outputs": [
    {
     "data": {
      "text/plain": [
       "array([13., -4., -5.])"
      ]
     },
     "execution_count": 5,
     "metadata": {},
     "output_type": "execute_result"
    }
   ],
   "source": [
    "np.linalg.solve(A, b)"
   ]
  },
  {
   "cell_type": "code",
   "execution_count": 6,
   "id": "91aeb933-e7e2-46b2-b1dc-f030d2aac016",
   "metadata": {
    "tags": []
   },
   "outputs": [
    {
     "data": {
      "text/plain": [
       "array([[5, 3, 2],\n",
       "       [0, 9, 1],\n",
       "       [0, 0, 1]])"
      ]
     },
     "execution_count": 6,
     "metadata": {},
     "output_type": "execute_result"
    }
   ],
   "source": [
    "M = np.array([[5,3,2],[0,9,1],[0,0,1]])\n",
    "M"
   ]
  },
  {
   "cell_type": "code",
   "execution_count": 7,
   "id": "a6a167af-9343-446a-9098-a97128a636c3",
   "metadata": {
    "tags": []
   },
   "outputs": [
    {
     "data": {
      "text/plain": [
       "3"
      ]
     },
     "execution_count": 7,
     "metadata": {},
     "output_type": "execute_result"
    }
   ],
   "source": [
    "np.linalg.matrix_rank(M)"
   ]
  },
  {
   "cell_type": "code",
   "execution_count": 8,
   "id": "9f104484-3e2a-4644-9134-c84c01fecccb",
   "metadata": {
    "tags": []
   },
   "outputs": [
    {
     "data": {
      "text/plain": [
       "2"
      ]
     },
     "execution_count": 8,
     "metadata": {},
     "output_type": "execute_result"
    }
   ],
   "source": [
    "M2 = np.array([[1,2,1,0],[0,0,1,1],[0,0,0,0]])\n",
    "np.linalg.matrix_rank(M2)"
   ]
  },
  {
   "cell_type": "code",
   "execution_count": 9,
   "id": "93ce009c-f1b0-4b3a-8a30-d79892814c7d",
   "metadata": {
    "tags": []
   },
   "outputs": [
    {
     "data": {
      "text/plain": [
       "False"
      ]
     },
     "execution_count": 9,
     "metadata": {},
     "output_type": "execute_result"
    }
   ],
   "source": [
    "A_cat = np.column_stack((A,b))\n",
    "np.linalg.matrix_rank(A_cat)\n",
    "np.linalg.matrix_rank(A) == A.shape[0]\n",
    "np.linalg.matrix_rank(M2) == M2.shape[1]"
   ]
  },
  {
   "cell_type": "markdown",
   "id": "0ddf6d9b-adc6-4547-8b8f-86594c1ce42e",
   "metadata": {
    "tags": []
   },
   "source": [
    "## Direct solvers\n",
    "### Gauss Jordan Elimination - step-by-step"
   ]
  },
  {
   "cell_type": "code",
   "execution_count": 10,
   "id": "94733a25-1dc3-4955-b5bf-040a72ccbccf",
   "metadata": {
    "tags": []
   },
   "outputs": [
    {
     "name": "stdout",
     "output_type": "stream",
     "text": [
      "Before:\n",
      "[[1 1 1 4]\n",
      " [2 1 3 7]\n",
      " [3 1 6 5]]\n",
      "\n",
      "Use 2.0 to eliminate element A[1,0]\n",
      "\n",
      "After:\n",
      "[[ 1  1  1  4]\n",
      " [ 0 -1  1 -1]\n",
      " [ 3  1  6  5]] \n"
     ]
    }
   ],
   "source": [
    "A = np.array([[1, 1, 1], [2, 1, 3], [3, 1, 6]]) \n",
    "b = np.array([4, 7, 5])\n",
    "A_org = A.copy()\n",
    "b_org = b.copy()\n",
    "\n",
    "print(f'Before:\\n{np.c_[A_org,b_org]}\\n')\n",
    "\n",
    "d10 = A[1,0] / A[0,0]\n",
    "\n",
    "print(f'Use {d10} to eliminate element A[1,0]\\n')\n",
    "\n",
    "A[1,0] = A[1,0] - A[0,0] * d10\n",
    "A[1,1] = A[1,1] - A[0,1] * d10\n",
    "A[1,2] = A[1,2] - A[0,2] * d10\n",
    "b[1] = b[1] - b[0] * d10\n",
    "\n",
    "print(f'After:\\n{np.column_stack((A,b))} ')"
   ]
  },
  {
   "cell_type": "code",
   "execution_count": 11,
   "id": "2f36e043-faa0-4733-8e5b-95d9f3c2cab5",
   "metadata": {
    "tags": []
   },
   "outputs": [
    {
     "name": "stdout",
     "output_type": "stream",
     "text": [
      "Use 3.0 to eliminate element A[1,0]\n",
      "\n",
      "After:\n",
      "[[ 1  1  1  4]\n",
      " [ 0 -1  1 -1]\n",
      " [ 0 -2  3 -7]] \n"
     ]
    }
   ],
   "source": [
    "d20 = A[2, 0] / A[0, 0]\n",
    "\n",
    "print(f'Use {d20} to eliminate element A[1,0]\\n')\n",
    "\n",
    "A[2, 0] = A[2, 0] - A[0, 0] * d20\n",
    "A[2, 1] = A[2, 1] - A[0, 1] * d20\n",
    "A[2, 2] = A[2, 2] - A[0, 2] * d20\n",
    "b[2] = b[2] - b[0] * d20\n",
    "\n",
    "print(f'After:\\n{np.column_stack((A,b))} ')"
   ]
  },
  {
   "cell_type": "code",
   "execution_count": 12,
   "id": "eb62fd22-f703-4417-a6a6-590933210375",
   "metadata": {
    "tags": []
   },
   "outputs": [
    {
     "name": "stdout",
     "output_type": "stream",
     "text": [
      "\n",
      "After:\n",
      "[[ 1  1  1  4]\n",
      " [ 0 -1  1 -1]\n",
      " [ 0  0  1 -5]] \n"
     ]
    }
   ],
   "source": [
    "d21 = A[2, 1] / A[1, 1]\n",
    "A[2, 1] = A[2, 1] - A[1, 1] * d21\n",
    "A[2, 2] = A[2, 2] - A[1, 2] * d21\n",
    "b[2] = b[2] - b[1] * d21\n",
    "\n",
    "print(f'\\nAfter:\\n{np.column_stack((A,b))} ')"
   ]
  },
  {
   "cell_type": "code",
   "execution_count": 13,
   "id": "0d2a8cd2-d385-406e-be90-3231b8d4eced",
   "metadata": {
    "tags": []
   },
   "outputs": [
    {
     "data": {
      "text/plain": [
       "array([13, -4, -5])"
      ]
     },
     "execution_count": 13,
     "metadata": {},
     "output_type": "execute_result"
    }
   ],
   "source": [
    "x = np.zeros_like(b)\n",
    "x[2] = b[2] / A[2,2]\n",
    "x[1] = (b[1] - A[1,2] * x[2]) / A[1,1]\n",
    "x[0] = (b[0] - A[0,1] * x[1] - A[0,2] * x[2]) / A[0,0]\n",
    "x"
   ]
  },
  {
   "cell_type": "code",
   "execution_count": 15,
   "id": "a12c1e28-79f2-4a2f-9ec5-f05e13663b93",
   "metadata": {
    "tags": []
   },
   "outputs": [],
   "source": [
    "A[0,1] = 3"
   ]
  },
  {
   "cell_type": "code",
   "execution_count": 16,
   "id": "2bf13b2b-21bf-42cc-a967-3f22ec9a8251",
   "metadata": {
    "tags": []
   },
   "outputs": [
    {
     "data": {
      "text/plain": [
       "array([[ 1,  3,  1],\n",
       "       [ 0, -1,  1],\n",
       "       [ 0,  0,  1]])"
      ]
     },
     "execution_count": 16,
     "metadata": {},
     "output_type": "execute_result"
    }
   ],
   "source": [
    "A"
   ]
  },
  {
   "cell_type": "code",
   "execution_count": 24,
   "id": "407a3aca-603f-4a7e-b9c6-358bbb761be8",
   "metadata": {
    "tags": []
   },
   "outputs": [
    {
     "name": "stdout",
     "output_type": "stream",
     "text": [
      "[[ 9.          9.          5.          2.        ]\n",
      " [ 0.          1.         -2.33333333  1.66666667]\n",
      " [ 0.          0.         -5.          7.        ]\n",
      " [ 0.          0.          0.          8.2       ]] [ 7.         -0.66666667  4.         10.28888889]\n",
      "[ 0.49322493 -0.52574526  0.95663957  1.25474255]\n",
      "[ 0.49322493 -0.52574526  0.95663957  1.25474255]\n",
      "[False False False False]\n"
     ]
    },
    {
     "data": {
      "text/plain": [
       "array([ True,  True,  True,  True])"
      ]
     },
     "execution_count": 24,
     "metadata": {},
     "output_type": "execute_result"
    }
   ],
   "source": [
    "from gaussjordan import gaussian_eliminate_v1 as ge\n",
    "from gaussjordan import backsubstitution_v1 as bs\n",
    "\n",
    "A = np.array([[9,9,5,2],[6,7,1,3],[6,4,3,5],[2,6,2,1]])\n",
    "b = np.array([7,4,10,1])\n",
    "Aprime,bprime = ge(A,b)\n",
    "print(Aprime, bprime)\n",
    "\n",
    "sol = bs(Aprime,bprime)\n",
    "print(sol)\n",
    "\n",
    "sol2 = np.linalg.solve(A,b)\n",
    "print(sol2)\n",
    "\n",
    "print(sol == sol2)\n",
    "\n",
    "np.isclose(sol,sol2)"
   ]
  },
  {
   "cell_type": "code",
   "execution_count": 3,
   "id": "f9c91904-ad7f-41f4-b96f-b7d2f44b4731",
   "metadata": {
    "tags": []
   },
   "outputs": [
    {
     "name": "stdout",
     "output_type": "stream",
     "text": [
      "[[0 2 1]\n",
      " [3 2 1]\n",
      " [1 1 1]]\n",
      "[[3.         2.         1.        ]\n",
      " [0.         0.33333333 0.66666667]\n",
      " [0.         0.         0.        ]]\n"
     ]
    }
   ],
   "source": [
    "import numpy as np\n",
    "from gaussjordan import gaussian_eliminate_partial_pivot as ge\n",
    "from gaussjordan import backsubstitution_v1 as bs\n",
    "A = np.array([[0,2,1],[3,2,1],[1,1,1]])\n",
    "b = np.array([4,3,10])\n",
    "\n",
    "print(A)\n",
    "Ag,bg = ge(A,b)\n",
    "print(Ag)"
   ]
  },
  {
   "cell_type": "code",
   "execution_count": 4,
   "id": "f743a7ac-2b2d-402f-96cc-8b07c7a06896",
   "metadata": {
    "tags": []
   },
   "outputs": [
    {
     "ename": "NameError",
     "evalue": "name 'forwardSub' is not defined",
     "output_type": "error",
     "traceback": [
      "\u001b[0;31m---------------------------------------------------------------------------\u001b[0m",
      "\u001b[0;31mNameError\u001b[0m                                 Traceback (most recent call last)",
      "Cell \u001b[0;32mIn[4], line 12\u001b[0m\n\u001b[1;32m     10\u001b[0m d \u001b[38;5;241m=\u001b[39m P \u001b[38;5;241m@\u001b[39m b\n\u001b[1;32m     11\u001b[0m \u001b[38;5;66;03m# Permute b vector\u001b[39;00m\n\u001b[0;32m---> 12\u001b[0m y \u001b[38;5;241m=\u001b[39m \u001b[43mforwardSub\u001b[49m(L, d)\n\u001b[1;32m     13\u001b[0m \u001b[38;5;66;03m# Can also do y=L\\d\u001b[39;00m\n\u001b[1;32m     14\u001b[0m x \u001b[38;5;241m=\u001b[39m backwardSub(U, y)\n",
      "\u001b[0;31mNameError\u001b[0m: name 'forwardSub' is not defined"
     ]
    }
   ],
   "source": [
    "import numpy as np\n",
    "from scipy.linalg import lu\n",
    "from gaussjordan import backsubstitution_v1, as backsubstitution\n",
    "from gaussjordan import forwardsubstitution\n",
    "\n",
    "# Example usage\n",
    "A = np.random.rand(5, 5) # Get random matrix\n",
    "P, L, U = lu(A)\n",
    "# Get L, U and P\n",
    "b = np.random.rand(5)\n",
    "# Random b vector\n",
    "d = P @ b\n",
    "# Permute b vector\n",
    "y = forwardsubstitution(L, d)\n",
    "# Can also do y=L\\d\n",
    "x = backsubstitution(U, y)\n",
    "# Can also do x=U\\y\n",
    "rnorm = np.linalg.norm(A @ x - b) # Residual"
   ]
  },
  {
   "cell_type": "code",
   "execution_count": 5,
   "id": "2ca26d3d-45b0-4101-8966-1d8acf13f30b",
   "metadata": {},
   "outputs": [
    {
     "data": {
      "text/plain": [
       "array([3, 2, 1])"
      ]
     },
     "execution_count": 5,
     "metadata": {},
     "output_type": "execute_result"
    }
   ],
   "source": []
  },
  {
   "cell_type": "code",
   "execution_count": 26,
   "id": "38beafef-f8ff-4ef1-8808-2644540e9b09",
   "metadata": {
    "tags": []
   },
   "outputs": [
    {
     "ename": "TypeError",
     "evalue": "'NoneType' object is not callable",
     "output_type": "error",
     "traceback": [
      "\u001b[0;31m---------------------------------------------------------------------------\u001b[0m",
      "\u001b[0;31mTypeError\u001b[0m                                 Traceback (most recent call last)",
      "Cell \u001b[0;32mIn[26], line 1\u001b[0m\n\u001b[0;32m----> 1\u001b[0m \u001b[43mnp\u001b[49m\u001b[38;5;241;43m.\u001b[39;49m\u001b[43mnewaxis\u001b[49m\u001b[43m(\u001b[49m\u001b[43m)\u001b[49m\n",
      "\u001b[0;31mTypeError\u001b[0m: 'NoneType' object is not callable"
     ]
    }
   ],
   "source": []
  },
  {
   "cell_type": "code",
   "execution_count": null,
   "id": "beeeacee-cf4b-4231-9609-5dc1b28517ca",
   "metadata": {},
   "outputs": [],
   "source": []
  }
 ],
 "metadata": {
  "kernelspec": {
   "display_name": "Python 3 (ipykernel)",
   "language": "python",
   "name": "python3"
  },
  "language_info": {
   "codemirror_mode": {
    "name": "ipython",
    "version": 3
   },
   "file_extension": ".py",
   "mimetype": "text/x-python",
   "name": "python",
   "nbconvert_exporter": "python",
   "pygments_lexer": "ipython3",
   "version": "3.11.6"
  }
 },
 "nbformat": 4,
 "nbformat_minor": 5
}
