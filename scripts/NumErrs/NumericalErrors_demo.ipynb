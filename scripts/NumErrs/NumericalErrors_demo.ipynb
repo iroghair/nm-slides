{
 "cells": [
  {
   "cell_type": "code",
   "execution_count": 6,
   "id": "d2530c27-c587-4a67-acfb-4fb518a0243c",
   "metadata": {
    "tags": []
   },
   "outputs": [
    {
     "name": "stdout",
     "output_type": "stream",
     "text": [
      "[0.1, 0.09999999999999998, 0.09999999999999976, 0.09999999999999754, 0.09999999999997533, 0.09999999999975329, 0.09999999999753284, 0.09999999997532838, 0.09999999975328377, 0.09999999753283773, 0.09999997532837723, 0.09999975328377231, 0.09999753283772306, 0.09997532837723055, 0.09975328377230552, 0.09753283772305521, 0.07532837723055208, -0.14671622769447923, -2.3671622769447924, -24.571622769447924, -246.61622769447925, -2467.0622769447928, -24671.52276944793, -246716.12769447928, -2467162.1769447927, -24671622.669447925, -246716227.59447926, -2467162276.844793, -24671622769.34793, -246716227694.3793, -2467162276944.693, -24671622769447.83, -246716227694479.2, -2467162276944793.0, -2.467162276944793e+16, -2.467162276944793e+17, -2.467162276944793e+18, -2.467162276944793e+19, -2.467162276944793e+20, -2.4671622769447933e+21, -2.467162276944793e+22]\n"
     ]
    }
   ],
   "source": [
    "def compute_silly_range(N):    \n",
    "    x = [0.1]\n",
    "    for _ in range(N):\n",
    "        x.append((10*x[-1]) - 0.9)\n",
    "\n",
    "    return x\n",
    "\n",
    "my_list = compute_silly_range(40)\n",
    "print(my_list)\n"
   ]
  },
  {
   "cell_type": "code",
   "execution_count": 8,
   "id": "33fd18a2-365a-4de2-b9b7-76bd7520c961",
   "metadata": {
    "tags": []
   },
   "outputs": [
    {
     "data": {
      "text/plain": [
       "[<matplotlib.lines.Line2D at 0x7fbca1688050>]"
      ]
     },
     "execution_count": 8,
     "metadata": {},
     "output_type": "execute_result"
    },
    {
     "data": {
      "image/png": "[encoded data removed]",
      "text/plain": [
       "<Figure size 640x480 with 1 Axes>"
      ]
     },
     "metadata": {},
     "output_type": "display_data"
    }
   ],
   "source": [
    "import numpy as np\n",
    "import matplotlib.pyplot as plt\n",
    "\n",
    "v = np.logspace(0,40,41)\n",
    "y = np.sin(v*np.pi)\n",
    "plt.loglog(v,np.abs(y))"
   ]
  },
  {
   "cell_type": "code",
   "execution_count": null,
   "id": "24c1b4e1-da13-4d75-81ec-fc669055c1cb",
   "metadata": {
    "tags": []
   },
   "outputs": [],
   "source": [
    "i = 1\n",
    "while True:\n",
    "    i += 1\n",
    "    \n",
    "print(i)"
   ]
  },
  {
   "cell_type": "code",
   "execution_count": 10,
   "id": "3bc64055-aa97-4626-990f-50fd1309917f",
   "metadata": {
    "tags": []
   },
   "outputs": [
    {
     "data": {
      "text/plain": [
       "'0b11010110'"
      ]
     },
     "execution_count": 10,
     "metadata": {},
     "output_type": "execute_result"
    }
   ],
   "source": [
    "bin(214)"
   ]
  },
  {
   "cell_type": "code",
   "execution_count": 11,
   "id": "f840a5ca-bab4-4ddb-91a1-20222be7aa92",
   "metadata": {
    "tags": []
   },
   "outputs": [
    {
     "data": {
      "text/plain": [
       "'0xd6'"
      ]
     },
     "execution_count": 11,
     "metadata": {},
     "output_type": "execute_result"
    }
   ],
   "source": [
    "hex(214)"
   ]
  },
  {
   "cell_type": "code",
   "execution_count": 23,
   "id": "ced5b5d5-61b2-4667-9784-22d9fc39764c",
   "metadata": {
    "tags": []
   },
   "outputs": [
    {
     "data": {
      "text/plain": [
       "iinfo(min=0, max=4294967295, dtype=uint32)"
      ]
     },
     "execution_count": 23,
     "metadata": {},
     "output_type": "execute_result"
    }
   ],
   "source": [
    "import numpy as np\n",
    "np.iinfo(np.uint32)"
   ]
  },
  {
   "cell_type": "code",
   "execution_count": 17,
   "id": "7eab3655-c352-4633-a6db-d5d895207b61",
   "metadata": {
    "tags": []
   },
   "outputs": [
    {
     "data": {
      "text/plain": [
       "2147483648"
      ]
     },
     "execution_count": 17,
     "metadata": {},
     "output_type": "execute_result"
    }
   ],
   "source": [
    "2**31"
   ]
  },
  {
   "cell_type": "code",
   "execution_count": 19,
   "id": "32d3ac67-7841-4e02-99be-371f8729a50c",
   "metadata": {
    "tags": []
   },
   "outputs": [
    {
     "data": {
      "text/plain": [
       "'0b10000000000000000000000000000000'"
      ]
     },
     "execution_count": 19,
     "metadata": {},
     "output_type": "execute_result"
    }
   ],
   "source": [
    "bin(2147483648)"
   ]
  },
  {
   "cell_type": "code",
   "execution_count": 21,
   "id": "d3ad4f08-9f24-4164-a6df-68bcacab1d35",
   "metadata": {
    "tags": []
   },
   "outputs": [
    {
     "data": {
      "text/plain": [
       "'0b1000000000000000000000000000000000000000000000000000000000000000'"
      ]
     },
     "execution_count": 21,
     "metadata": {},
     "output_type": "execute_result"
    }
   ],
   "source": [
    "bin(9223372036854775808)"
   ]
  },
  {
   "cell_type": "code",
   "execution_count": 26,
   "id": "17d128fc-bc87-443f-aedd-98b98e32dda9",
   "metadata": {
    "tags": []
   },
   "outputs": [
    {
     "data": {
      "text/plain": [
       "array([ 0,  1,  2,  3,  4,  5,  6,  7,  8,  9, 10], dtype=int8)"
      ]
     },
     "execution_count": 26,
     "metadata": {},
     "output_type": "execute_result"
    }
   ],
   "source": [
    "np.linspace(0,10,11, dtype=np.int8)"
   ]
  },
  {
   "cell_type": "code",
   "execution_count": 29,
   "id": "2220b4cd-3c1e-435b-a2d2-fba7c57bbf8a",
   "metadata": {
    "tags": []
   },
   "outputs": [
    {
     "name": "stdout",
     "output_type": "stream",
     "text": [
      "[32767]\n"
     ]
    }
   ],
   "source": [
    "i = np.array([32767], dtype=np.int16)\n",
    "print(i)"
   ]
  },
  {
   "cell_type": "code",
   "execution_count": 30,
   "id": "0c5c88b1-506e-444c-9fcc-85a80cbbaccb",
   "metadata": {
    "tags": []
   },
   "outputs": [
    {
     "name": "stdout",
     "output_type": "stream",
     "text": [
      "[-32768]\n"
     ]
    }
   ],
   "source": [
    "i += 1\n",
    "print(i)"
   ]
  },
  {
   "cell_type": "code",
   "execution_count": 41,
   "id": "349e1490-15ee-4870-a0b5-173363ce0243",
   "metadata": {
    "tags": []
   },
   "outputs": [
    {
     "name": "stdout",
     "output_type": "stream",
     "text": [
      "0.100000000000000005551115123126\n"
     ]
    }
   ],
   "source": [
    "g = 0.1\n",
    "type(g)\n",
    "print(f'{g:1.30f}')"
   ]
  },
  {
   "cell_type": "code",
   "execution_count": 43,
   "id": "d2563c7b-ad99-4d1f-9ae7-3a448d2e23f9",
   "metadata": {
    "tags": []
   },
   "outputs": [
    {
     "name": "stdout",
     "output_type": "stream",
     "text": [
      "2.1430172143725346e+301\n",
      "4.2860344287450693e+301\n",
      "8.572068857490139e+301\n",
      "1.7144137714980277e+302\n",
      "3.4288275429960554e+302\n",
      "6.857655085992111e+302\n",
      "1.3715310171984222e+303\n",
      "2.7430620343968443e+303\n",
      "5.486124068793689e+303\n",
      "1.0972248137587377e+304\n",
      "2.1944496275174755e+304\n",
      "4.388899255034951e+304\n",
      "8.777798510069902e+304\n",
      "1.7555597020139804e+305\n",
      "3.511119404027961e+305\n",
      "7.022238808055922e+305\n",
      "1.4044477616111843e+306\n",
      "2.8088955232223686e+306\n",
      "5.617791046444737e+306\n",
      "1.1235582092889474e+307\n",
      "2.247116418577895e+307\n",
      "4.49423283715579e+307\n",
      "8.98846567431158e+307\n",
      "inf\n",
      "inf\n",
      "inf\n",
      "inf\n",
      "inf\n",
      "inf\n",
      "inf\n",
      "inf\n",
      "inf\n",
      "inf\n",
      "inf\n",
      "inf\n",
      "inf\n",
      "inf\n",
      "inf\n",
      "inf\n",
      "inf\n",
      "inf\n",
      "inf\n",
      "inf\n",
      "inf\n",
      "inf\n",
      "inf\n",
      "inf\n",
      "inf\n",
      "inf\n",
      "inf\n",
      "inf\n",
      "inf\n",
      "inf\n",
      "inf\n",
      "inf\n",
      "inf\n",
      "inf\n",
      "inf\n",
      "inf\n",
      "inf\n",
      "inf\n",
      "inf\n",
      "inf\n",
      "inf\n",
      "inf\n",
      "inf\n",
      "inf\n",
      "inf\n",
      "inf\n",
      "inf\n",
      "inf\n",
      "inf\n",
      "inf\n",
      "inf\n",
      "inf\n",
      "inf\n",
      "inf\n",
      "inf\n",
      "inf\n",
      "inf\n",
      "inf\n",
      "inf\n",
      "inf\n",
      "inf\n",
      "inf\n",
      "inf\n",
      "inf\n",
      "inf\n",
      "inf\n",
      "inf\n",
      "inf\n",
      "inf\n",
      "inf\n",
      "inf\n",
      "inf\n",
      "inf\n",
      "inf\n",
      "inf\n",
      "inf\n",
      "inf\n",
      "inf\n",
      "inf\n",
      "inf\n",
      "inf\n",
      "inf\n",
      "inf\n",
      "inf\n",
      "inf\n",
      "inf\n",
      "inf\n",
      "inf\n",
      "inf\n",
      "inf\n",
      "inf\n",
      "inf\n",
      "inf\n",
      "inf\n",
      "inf\n",
      "inf\n",
      "inf\n",
      "inf\n",
      "inf\n",
      "inf\n",
      "inf\n",
      "inf\n",
      "inf\n",
      "inf\n",
      "inf\n",
      "inf\n",
      "inf\n",
      "inf\n",
      "inf\n",
      "inf\n",
      "inf\n",
      "inf\n",
      "inf\n",
      "inf\n",
      "inf\n",
      "inf\n",
      "inf\n",
      "inf\n",
      "inf\n",
      "inf\n",
      "inf\n",
      "inf\n",
      "inf\n",
      "inf\n",
      "inf\n",
      "inf\n",
      "inf\n",
      "inf\n",
      "inf\n",
      "inf\n",
      "inf\n",
      "inf\n",
      "inf\n",
      "inf\n",
      "inf\n",
      "inf\n",
      "inf\n",
      "inf\n",
      "inf\n",
      "inf\n",
      "inf\n",
      "inf\n",
      "inf\n",
      "inf\n",
      "inf\n",
      "inf\n",
      "inf\n",
      "inf\n",
      "inf\n",
      "inf\n",
      "inf\n",
      "inf\n",
      "inf\n",
      "inf\n",
      "inf\n",
      "inf\n",
      "inf\n",
      "inf\n",
      "inf\n",
      "inf\n",
      "inf\n",
      "inf\n",
      "inf\n",
      "inf\n",
      "inf\n",
      "inf\n",
      "inf\n",
      "inf\n",
      "inf\n",
      "inf\n",
      "inf\n",
      "inf\n",
      "inf\n",
      "inf\n",
      "inf\n",
      "inf\n",
      "inf\n"
     ]
    }
   ],
   "source": [
    "i = 2.0**1000\n",
    "\n",
    "for _ in range(200):\n",
    "    i *= 2\n",
    "    print(i)"
   ]
  },
  {
   "cell_type": "code",
   "execution_count": 58,
   "id": "4dfdbbfd-535e-47e1-94ee-6a85dba787fc",
   "metadata": {
    "tags": []
   },
   "outputs": [
    {
     "name": "stdout",
     "output_type": "stream",
     "text": [
      "0.006737943884298238\n"
     ]
    }
   ],
   "source": [
    "from math import factorial\n",
    "\n",
    "def my_exp(x,N=26):\n",
    "    s = 0\n",
    "    for n in range(N):\n",
    "        term = x**n/factorial(n)\n",
    "        # term = round(term,3)\n",
    "        s += term\n",
    "    return s\n",
    "\n",
    "print(my_exp(-5))"
   ]
  },
  {
   "cell_type": "code",
   "execution_count": 62,
   "id": "15168e5f-446f-46fa-bf8b-58280422b084",
   "metadata": {
    "tags": []
   },
   "outputs": [
    {
     "name": "stdout",
     "output_type": "stream",
     "text": [
      "+1.00000e+00,  +1.00000e+00\n",
      "+6.18034e-01,  +6.18034e-01\n",
      "+3.81966e-01,  +3.81966e-01\n",
      "+2.36068e-01,  +2.36068e-01\n",
      "+1.45898e-01,  +1.45898e-01\n",
      "+9.01699e-02,  +9.01699e-02\n",
      "+5.57281e-02,  +5.57281e-02\n",
      "+3.44419e-02,  +3.44419e-02\n",
      "+2.12862e-02,  +2.12862e-02\n",
      "+1.31556e-02,  +1.31556e-02\n",
      "+8.13062e-03,  +8.13062e-03\n",
      "+5.02500e-03,  +5.02500e-03\n",
      "+3.10562e-03,  +3.10562e-03\n",
      "+1.91938e-03,  +1.91938e-03\n",
      "+1.18624e-03,  +1.18624e-03\n",
      "+7.33137e-04,  +7.33137e-04\n",
      "+4.53104e-04,  +4.53104e-04\n",
      "+2.80034e-04,  +2.80034e-04\n",
      "+1.73070e-04,  +1.73070e-04\n",
      "+1.06963e-04,  +1.06963e-04\n",
      "+6.61070e-05,  +6.61070e-05\n",
      "+4.08563e-05,  +4.08563e-05\n",
      "+2.52506e-05,  +2.52506e-05\n",
      "+1.56057e-05,  +1.56057e-05\n",
      "+9.64488e-06,  +9.64488e-06\n",
      "+5.96086e-06,  +5.96086e-06\n",
      "+3.68402e-06,  +3.68401e-06\n",
      "+2.27684e-06,  +2.27685e-06\n",
      "+1.40719e-06,  +1.40717e-06\n",
      "+8.69649e-07,  +8.69678e-07\n",
      "+5.37538e-07,  +5.37490e-07\n",
      "+3.32111e-07,  +3.32187e-07\n",
      "+2.05427e-07,  +2.05303e-07\n",
      "+1.26684e-07,  +1.26884e-07\n",
      "+7.87422e-08,  +7.84188e-08\n",
      "+4.79423e-08,  +4.84655e-08\n",
      "+3.07999e-08,  +2.99533e-08\n",
      "+1.71424e-08,  +1.85122e-08\n",
      "+1.36575e-08,  +1.14411e-08\n",
      "+3.48490e-09,  +7.07102e-09\n",
      "+1.01726e-08,  +4.37013e-09\n"
     ]
    }
   ],
   "source": [
    "import numpy as np\n",
    "\n",
    "def golden_mean_recurrent(Ntot):\n",
    "# Initialize the series with the given initial conditions\n",
    "    y = np.zeros(Ntot)\n",
    "    y[0] = 1\n",
    "    y[1] = 2 / (1 + np.sqrt(5))\n",
    "    # Perform the recurrence to fill in the rest of the series\n",
    "    for n in range(2, Ntot):\n",
    "        y[n] = y[n-2] - y[n-1]\n",
    "    return y\n",
    "\n",
    "def golden_mean_powerlaw(Ntot):\n",
    "    # Initialize the constant value\n",
    "    x = (1 + np.sqrt(5)) / 2\n",
    "    # Generate a range of values from 0 to Ntot and apply the power law\n",
    "    y = x ** -np.arange(0, Ntot + 1)\n",
    "\n",
    "    return y    \n",
    "\n",
    "y1 = golden_mean_recurrent(41)\n",
    "y2 = golden_mean_powerlaw(41)\n",
    "\n",
    "for i,j in zip(y1,y2):\n",
    "    print(f'{i:+1.5e},  {j:+1.5e}')\n",
    "\n"
   ]
  },
  {
   "cell_type": "code",
   "execution_count": 63,
   "id": "407f0dfc-fc20-48d3-9685-3c5a24ad1be7",
   "metadata": {
    "tags": []
   },
   "outputs": [
    {
     "data": {
      "text/plain": [
       "False"
      ]
     },
     "execution_count": 63,
     "metadata": {},
     "output_type": "execute_result"
    }
   ],
   "source": [
    "0.1 + 0.2 == 0.3"
   ]
  },
  {
   "cell_type": "code",
   "execution_count": 64,
   "id": "69d625bc-62a7-4761-a1a3-327158bb0256",
   "metadata": {
    "tags": []
   },
   "outputs": [
    {
     "data": {
      "text/plain": [
       "True"
      ]
     },
     "execution_count": 64,
     "metadata": {},
     "output_type": "execute_result"
    }
   ],
   "source": [
    "np.isclose(0.1+0.2, 0.3)"
   ]
  },
  {
   "cell_type": "code",
   "execution_count": 65,
   "id": "a11b617d-566c-4cf1-bc7f-c16ce2ac407b",
   "metadata": {
    "tags": []
   },
   "outputs": [
    {
     "data": {
      "text/plain": [
       "1.1"
      ]
     },
     "execution_count": 65,
     "metadata": {},
     "output_type": "execute_result"
    }
   ],
   "source": [
    "0.7 + (0.1 + 0.3)"
   ]
  },
  {
   "cell_type": "code",
   "execution_count": 66,
   "id": "8fd2753e-013e-413e-86ee-fb390c23c2db",
   "metadata": {
    "tags": []
   },
   "outputs": [
    {
     "data": {
      "text/plain": [
       "1.0999999999999999"
      ]
     },
     "execution_count": 66,
     "metadata": {},
     "output_type": "execute_result"
    }
   ],
   "source": [
    "(0.7 + 0.1) + 0.3"
   ]
  },
  {
   "cell_type": "code",
   "execution_count": 67,
   "id": "ca603b0d-3b6e-45f4-bab2-ed466313e6f8",
   "metadata": {
    "tags": []
   },
   "outputs": [
    {
     "name": "stdout",
     "output_type": "stream",
     "text": [
      "yes\n"
     ]
    }
   ],
   "source": [
    "p = 0.2\n",
    "if p < 0.5:\n",
    "    print(\"yes\")"
   ]
  },
  {
   "cell_type": "code",
   "execution_count": 73,
   "id": "77fa94db-70c7-4198-a8a6-116c76f2d8be",
   "metadata": {
    "tags": []
   },
   "outputs": [
    {
     "name": "stdout",
     "output_type": "stream",
     "text": [
      "(x - 1)*(x + 1)*(x**2 + 1) + 1\n",
      "x**4\n"
     ]
    }
   ],
   "source": [
    "from sympy import simplify, symbols\n",
    "from sympy.abc import x\n",
    "\n",
    "f = (x-1)*(x+1)*(x**2+1)+1\n",
    "print(f)\n",
    "\n",
    "f2 = f.simplify()\n",
    "print(f2)"
   ]
  },
  {
   "cell_type": "code",
   "execution_count": 74,
   "id": "8abadd6f-7219-4d35-a09d-a8c4ad8b1cbf",
   "metadata": {
    "tags": []
   },
   "outputs": [
    {
     "name": "stdout",
     "output_type": "stream",
     "text": [
      "Original: 1/(x**3 + 1)\n",
      "Integrated: log(x + 1)/3 - log(x**2 - x + 1)/6 + sqrt(3)*atan(2*sqrt(3)*x/3 - sqrt(3)/3)/3\n",
      "Differentiated: -(2*x - 1)/(6*(x**2 - x + 1)) + 2/(3*((2*sqrt(3)*x/3 - sqrt(3)/3)**2 + 1)) + 1/(3*(x + 1))\n",
      "Simplified: 1/(x**3 + 1)\n"
     ]
    }
   ],
   "source": [
    "from sympy import simplify, integrate, diff\n",
    "from sympy.abc import x\n",
    "\n",
    "f = 1/(x**3+1)\n",
    "print(f'Original: {f}')\n",
    "my_f_int = integrate(f, x)\n",
    "print(f'Integrated: {my_f_int}')\n",
    "my_f_diff = diff(my_f_int, x)\n",
    "print(f'Differentiated: {my_f_diff}')\n",
    "my_f_diff_simplified = simplify(my_f_diff)\n",
    "print(f'Simplified: {my_f_diff_simplified}')"
   ]
  },
  {
   "cell_type": "code",
   "execution_count": 75,
   "id": "fcf62179-d876-4b84-8037-c70ee7a86116",
   "metadata": {
    "tags": []
   },
   "outputs": [
    {
     "name": "stdout",
     "output_type": "stream",
     "text": [
      "sin(2*x)\n"
     ]
    }
   ],
   "source": [
    "# Simplify f(x) = 2*tan(x)/(tan(x)**2+1)\n",
    "\n",
    "from sympy import tan, simplify\n",
    "from sympy.abc import x\n",
    "\n",
    "f = 2*tan(x)/(1+tan(x)**2)\n",
    "print(f.simplify())"
   ]
  },
  {
   "cell_type": "code",
   "execution_count": 76,
   "id": "a2dcedde-0253-4855-a8c8-53018075911e",
   "metadata": {
    "tags": []
   },
   "outputs": [],
   "source": [
    "%reset -f"
   ]
  },
  {
   "cell_type": "code",
   "execution_count": 98,
   "id": "1fc584ac-a9f9-4c92-b57c-3c2922eb8ac4",
   "metadata": {
    "tags": []
   },
   "outputs": [
    {
     "data": {
      "image/png": "[encoded data removed]",
      "text/plain": [
       "<Figure size 640x480 with 1 Axes>"
      ]
     },
     "metadata": {},
     "output_type": "display_data"
    }
   ],
   "source": [
    "# Compute Fourier sine series\n",
    "import numpy as np\n",
    "import matplotlib.pyplot as plt\n",
    "L = 0.1\n",
    "k = 1e-4\n",
    "t = 2\n",
    "x = np.linspace(0,L,101)\n",
    "N = 5000\n",
    "times = [0.1, 1, 2, 5, 10, 20, 50, 100]\n",
    "\n",
    "my_solutions = []\n",
    "for t in times:\n",
    "    total_sum = 0\n",
    "    for n in range(1,N):\n",
    "        term = 40*(1-(-1)**n)/(n*np.pi) * np.sin(n*np.pi*x/L) * np.exp(-k*t*n*np.pi**2/L)\n",
    "        total_sum += term\n",
    "    my_solutions.append(total_sum)\n",
    "\n",
    "    plt.plot(x,total_sum,label=f'Time = {t} s')\n",
    "    \n",
    "plt.legend()\n",
    "plt.grid()"
   ]
  },
  {
   "cell_type": "code",
   "execution_count": null,
   "id": "b4b8a0af-4be4-4496-9d67-b2fe63b39f81",
   "metadata": {},
   "outputs": [],
   "source": []
  }
 ],
 "metadata": {
  "kernelspec": {
   "display_name": "Python 3 (ipykernel)",
   "language": "python",
   "name": "python3"
  },
  "language_info": {
   "codemirror_mode": {
    "name": "ipython",
    "version": 3
   },
   "file_extension": ".py",
   "mimetype": "text/x-python",
   "name": "python",
   "nbconvert_exporter": "python",
   "pygments_lexer": "ipython3",
   "version": "3.11.6"
  }
 },
 "nbformat": 4,
 "nbformat_minor": 5
}
